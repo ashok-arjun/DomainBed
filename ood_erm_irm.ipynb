{
  "nbformat": 4,
  "nbformat_minor": 0,
  "metadata": {
    "colab": {
      "name": "invariant-risk-minimization-colored-mnist.ipynb",
      "provenance": [],
      "collapsed_sections": []
    },
    "kernelspec": {
      "name": "python3",
      "display_name": "Python 3"
    },
    "accelerator": "GPU",
    "widgets": {
      "application/vnd.jupyter.widget-state+json": {
        "8f9edac603a84c60993b2cdc8c8a2fbd": {
          "model_module": "@jupyter-widgets/controls",
          "model_name": "VBoxModel",
          "model_module_version": "1.5.0",
          "state": {
            "_view_name": "VBoxView",
            "_dom_classes": [],
            "_model_name": "VBoxModel",
            "_view_module": "@jupyter-widgets/controls",
            "_model_module_version": "1.5.0",
            "_view_count": null,
            "_view_module_version": "1.5.0",
            "box_style": "",
            "layout": "IPY_MODEL_b7be1a56cd99483cb1116fb032949e45",
            "_model_module": "@jupyter-widgets/controls",
            "children": [
              "IPY_MODEL_303f4ce7d1d442179945e946a72595ca",
              "IPY_MODEL_5ae0ac86752049f08f5a33f94aacaf01"
            ]
          }
        },
        "b7be1a56cd99483cb1116fb032949e45": {
          "model_module": "@jupyter-widgets/base",
          "model_name": "LayoutModel",
          "model_module_version": "1.2.0",
          "state": {
            "_view_name": "LayoutView",
            "grid_template_rows": null,
            "right": null,
            "justify_content": null,
            "_view_module": "@jupyter-widgets/base",
            "overflow": null,
            "_model_module_version": "1.2.0",
            "_view_count": null,
            "flex_flow": null,
            "width": null,
            "min_width": null,
            "border": null,
            "align_items": null,
            "bottom": null,
            "_model_module": "@jupyter-widgets/base",
            "top": null,
            "grid_column": null,
            "overflow_y": null,
            "overflow_x": null,
            "grid_auto_flow": null,
            "grid_area": null,
            "grid_template_columns": null,
            "flex": null,
            "_model_name": "LayoutModel",
            "justify_items": null,
            "grid_row": null,
            "max_height": null,
            "align_content": null,
            "visibility": null,
            "align_self": null,
            "height": null,
            "min_height": null,
            "padding": null,
            "grid_auto_rows": null,
            "grid_gap": null,
            "max_width": null,
            "order": null,
            "_view_module_version": "1.2.0",
            "grid_template_areas": null,
            "object_position": null,
            "object_fit": null,
            "grid_auto_columns": null,
            "margin": null,
            "display": null,
            "left": null
          }
        },
        "303f4ce7d1d442179945e946a72595ca": {
          "model_module": "@jupyter-widgets/controls",
          "model_name": "LabelModel",
          "model_module_version": "1.5.0",
          "state": {
            "_view_name": "LabelView",
            "style": "IPY_MODEL_1b4f8eae681f4b17bd08745f04861bba",
            "_dom_classes": [],
            "description": "",
            "_model_name": "LabelModel",
            "placeholder": "​",
            "_view_module": "@jupyter-widgets/controls",
            "_model_module_version": "1.5.0",
            "value": " 0.53MB of 0.53MB uploaded (0.00MB deduped)\r",
            "_view_count": null,
            "_view_module_version": "1.5.0",
            "description_tooltip": null,
            "_model_module": "@jupyter-widgets/controls",
            "layout": "IPY_MODEL_43314268dcf742dfb653d3ea1627a66a"
          }
        },
        "5ae0ac86752049f08f5a33f94aacaf01": {
          "model_module": "@jupyter-widgets/controls",
          "model_name": "FloatProgressModel",
          "model_module_version": "1.5.0",
          "state": {
            "_view_name": "ProgressView",
            "style": "IPY_MODEL_613349fa88464589aab0e60082c225bd",
            "_dom_classes": [],
            "description": "",
            "_model_name": "FloatProgressModel",
            "bar_style": "",
            "max": 1,
            "_view_module": "@jupyter-widgets/controls",
            "_model_module_version": "1.5.0",
            "value": 1,
            "_view_count": null,
            "_view_module_version": "1.5.0",
            "orientation": "horizontal",
            "min": 0,
            "description_tooltip": null,
            "_model_module": "@jupyter-widgets/controls",
            "layout": "IPY_MODEL_bda3a6513e7b49919333b08a766a3e4d"
          }
        },
        "1b4f8eae681f4b17bd08745f04861bba": {
          "model_module": "@jupyter-widgets/controls",
          "model_name": "DescriptionStyleModel",
          "model_module_version": "1.5.0",
          "state": {
            "_view_name": "StyleView",
            "_model_name": "DescriptionStyleModel",
            "description_width": "",
            "_view_module": "@jupyter-widgets/base",
            "_model_module_version": "1.5.0",
            "_view_count": null,
            "_view_module_version": "1.2.0",
            "_model_module": "@jupyter-widgets/controls"
          }
        },
        "43314268dcf742dfb653d3ea1627a66a": {
          "model_module": "@jupyter-widgets/base",
          "model_name": "LayoutModel",
          "model_module_version": "1.2.0",
          "state": {
            "_view_name": "LayoutView",
            "grid_template_rows": null,
            "right": null,
            "justify_content": null,
            "_view_module": "@jupyter-widgets/base",
            "overflow": null,
            "_model_module_version": "1.2.0",
            "_view_count": null,
            "flex_flow": null,
            "width": null,
            "min_width": null,
            "border": null,
            "align_items": null,
            "bottom": null,
            "_model_module": "@jupyter-widgets/base",
            "top": null,
            "grid_column": null,
            "overflow_y": null,
            "overflow_x": null,
            "grid_auto_flow": null,
            "grid_area": null,
            "grid_template_columns": null,
            "flex": null,
            "_model_name": "LayoutModel",
            "justify_items": null,
            "grid_row": null,
            "max_height": null,
            "align_content": null,
            "visibility": null,
            "align_self": null,
            "height": null,
            "min_height": null,
            "padding": null,
            "grid_auto_rows": null,
            "grid_gap": null,
            "max_width": null,
            "order": null,
            "_view_module_version": "1.2.0",
            "grid_template_areas": null,
            "object_position": null,
            "object_fit": null,
            "grid_auto_columns": null,
            "margin": null,
            "display": null,
            "left": null
          }
        },
        "613349fa88464589aab0e60082c225bd": {
          "model_module": "@jupyter-widgets/controls",
          "model_name": "ProgressStyleModel",
          "model_module_version": "1.5.0",
          "state": {
            "_view_name": "StyleView",
            "_model_name": "ProgressStyleModel",
            "description_width": "",
            "_view_module": "@jupyter-widgets/base",
            "_model_module_version": "1.5.0",
            "_view_count": null,
            "_view_module_version": "1.2.0",
            "bar_color": null,
            "_model_module": "@jupyter-widgets/controls"
          }
        },
        "bda3a6513e7b49919333b08a766a3e4d": {
          "model_module": "@jupyter-widgets/base",
          "model_name": "LayoutModel",
          "model_module_version": "1.2.0",
          "state": {
            "_view_name": "LayoutView",
            "grid_template_rows": null,
            "right": null,
            "justify_content": null,
            "_view_module": "@jupyter-widgets/base",
            "overflow": null,
            "_model_module_version": "1.2.0",
            "_view_count": null,
            "flex_flow": null,
            "width": null,
            "min_width": null,
            "border": null,
            "align_items": null,
            "bottom": null,
            "_model_module": "@jupyter-widgets/base",
            "top": null,
            "grid_column": null,
            "overflow_y": null,
            "overflow_x": null,
            "grid_auto_flow": null,
            "grid_area": null,
            "grid_template_columns": null,
            "flex": null,
            "_model_name": "LayoutModel",
            "justify_items": null,
            "grid_row": null,
            "max_height": null,
            "align_content": null,
            "visibility": null,
            "align_self": null,
            "height": null,
            "min_height": null,
            "padding": null,
            "grid_auto_rows": null,
            "grid_gap": null,
            "max_width": null,
            "order": null,
            "_view_module_version": "1.2.0",
            "grid_template_areas": null,
            "object_position": null,
            "object_fit": null,
            "grid_auto_columns": null,
            "margin": null,
            "display": null,
            "left": null
          }
        },
        "f635414bed3b408e8c62be7b9e04b4c1": {
          "model_module": "@jupyter-widgets/controls",
          "model_name": "VBoxModel",
          "model_module_version": "1.5.0",
          "state": {
            "_view_name": "VBoxView",
            "_dom_classes": [],
            "_model_name": "VBoxModel",
            "_view_module": "@jupyter-widgets/controls",
            "_model_module_version": "1.5.0",
            "_view_count": null,
            "_view_module_version": "1.5.0",
            "box_style": "",
            "layout": "IPY_MODEL_eaafa163ac504739ae3d70b2e641bf9d",
            "_model_module": "@jupyter-widgets/controls",
            "children": [
              "IPY_MODEL_5b5f241f79434d028a1c0d04608b6eaa",
              "IPY_MODEL_862fe77b603644f486a198767d718e50"
            ]
          }
        },
        "eaafa163ac504739ae3d70b2e641bf9d": {
          "model_module": "@jupyter-widgets/base",
          "model_name": "LayoutModel",
          "model_module_version": "1.2.0",
          "state": {
            "_view_name": "LayoutView",
            "grid_template_rows": null,
            "right": null,
            "justify_content": null,
            "_view_module": "@jupyter-widgets/base",
            "overflow": null,
            "_model_module_version": "1.2.0",
            "_view_count": null,
            "flex_flow": null,
            "width": null,
            "min_width": null,
            "border": null,
            "align_items": null,
            "bottom": null,
            "_model_module": "@jupyter-widgets/base",
            "top": null,
            "grid_column": null,
            "overflow_y": null,
            "overflow_x": null,
            "grid_auto_flow": null,
            "grid_area": null,
            "grid_template_columns": null,
            "flex": null,
            "_model_name": "LayoutModel",
            "justify_items": null,
            "grid_row": null,
            "max_height": null,
            "align_content": null,
            "visibility": null,
            "align_self": null,
            "height": null,
            "min_height": null,
            "padding": null,
            "grid_auto_rows": null,
            "grid_gap": null,
            "max_width": null,
            "order": null,
            "_view_module_version": "1.2.0",
            "grid_template_areas": null,
            "object_position": null,
            "object_fit": null,
            "grid_auto_columns": null,
            "margin": null,
            "display": null,
            "left": null
          }
        },
        "5b5f241f79434d028a1c0d04608b6eaa": {
          "model_module": "@jupyter-widgets/controls",
          "model_name": "LabelModel",
          "model_module_version": "1.5.0",
          "state": {
            "_view_name": "LabelView",
            "style": "IPY_MODEL_5dca90b787ce4f1989b937c8410ba98c",
            "_dom_classes": [],
            "description": "",
            "_model_name": "LabelModel",
            "placeholder": "​",
            "_view_module": "@jupyter-widgets/controls",
            "_model_module_version": "1.5.0",
            "value": " 0.03MB of 0.03MB uploaded (0.00MB deduped)\r",
            "_view_count": null,
            "_view_module_version": "1.5.0",
            "description_tooltip": null,
            "_model_module": "@jupyter-widgets/controls",
            "layout": "IPY_MODEL_24924c4110834743b73030849f31c4d9"
          }
        },
        "862fe77b603644f486a198767d718e50": {
          "model_module": "@jupyter-widgets/controls",
          "model_name": "FloatProgressModel",
          "model_module_version": "1.5.0",
          "state": {
            "_view_name": "ProgressView",
            "style": "IPY_MODEL_91036b4b4645424bb3b6b6d03182dcb3",
            "_dom_classes": [],
            "description": "",
            "_model_name": "FloatProgressModel",
            "bar_style": "",
            "max": 1,
            "_view_module": "@jupyter-widgets/controls",
            "_model_module_version": "1.5.0",
            "value": 1,
            "_view_count": null,
            "_view_module_version": "1.5.0",
            "orientation": "horizontal",
            "min": 0,
            "description_tooltip": null,
            "_model_module": "@jupyter-widgets/controls",
            "layout": "IPY_MODEL_cb54edfc06814aac8dc790cde7b0135f"
          }
        },
        "5dca90b787ce4f1989b937c8410ba98c": {
          "model_module": "@jupyter-widgets/controls",
          "model_name": "DescriptionStyleModel",
          "model_module_version": "1.5.0",
          "state": {
            "_view_name": "StyleView",
            "_model_name": "DescriptionStyleModel",
            "description_width": "",
            "_view_module": "@jupyter-widgets/base",
            "_model_module_version": "1.5.0",
            "_view_count": null,
            "_view_module_version": "1.2.0",
            "_model_module": "@jupyter-widgets/controls"
          }
        },
        "24924c4110834743b73030849f31c4d9": {
          "model_module": "@jupyter-widgets/base",
          "model_name": "LayoutModel",
          "model_module_version": "1.2.0",
          "state": {
            "_view_name": "LayoutView",
            "grid_template_rows": null,
            "right": null,
            "justify_content": null,
            "_view_module": "@jupyter-widgets/base",
            "overflow": null,
            "_model_module_version": "1.2.0",
            "_view_count": null,
            "flex_flow": null,
            "width": null,
            "min_width": null,
            "border": null,
            "align_items": null,
            "bottom": null,
            "_model_module": "@jupyter-widgets/base",
            "top": null,
            "grid_column": null,
            "overflow_y": null,
            "overflow_x": null,
            "grid_auto_flow": null,
            "grid_area": null,
            "grid_template_columns": null,
            "flex": null,
            "_model_name": "LayoutModel",
            "justify_items": null,
            "grid_row": null,
            "max_height": null,
            "align_content": null,
            "visibility": null,
            "align_self": null,
            "height": null,
            "min_height": null,
            "padding": null,
            "grid_auto_rows": null,
            "grid_gap": null,
            "max_width": null,
            "order": null,
            "_view_module_version": "1.2.0",
            "grid_template_areas": null,
            "object_position": null,
            "object_fit": null,
            "grid_auto_columns": null,
            "margin": null,
            "display": null,
            "left": null
          }
        },
        "91036b4b4645424bb3b6b6d03182dcb3": {
          "model_module": "@jupyter-widgets/controls",
          "model_name": "ProgressStyleModel",
          "model_module_version": "1.5.0",
          "state": {
            "_view_name": "StyleView",
            "_model_name": "ProgressStyleModel",
            "description_width": "",
            "_view_module": "@jupyter-widgets/base",
            "_model_module_version": "1.5.0",
            "_view_count": null,
            "_view_module_version": "1.2.0",
            "bar_color": null,
            "_model_module": "@jupyter-widgets/controls"
          }
        },
        "cb54edfc06814aac8dc790cde7b0135f": {
          "model_module": "@jupyter-widgets/base",
          "model_name": "LayoutModel",
          "model_module_version": "1.2.0",
          "state": {
            "_view_name": "LayoutView",
            "grid_template_rows": null,
            "right": null,
            "justify_content": null,
            "_view_module": "@jupyter-widgets/base",
            "overflow": null,
            "_model_module_version": "1.2.0",
            "_view_count": null,
            "flex_flow": null,
            "width": null,
            "min_width": null,
            "border": null,
            "align_items": null,
            "bottom": null,
            "_model_module": "@jupyter-widgets/base",
            "top": null,
            "grid_column": null,
            "overflow_y": null,
            "overflow_x": null,
            "grid_auto_flow": null,
            "grid_area": null,
            "grid_template_columns": null,
            "flex": null,
            "_model_name": "LayoutModel",
            "justify_items": null,
            "grid_row": null,
            "max_height": null,
            "align_content": null,
            "visibility": null,
            "align_self": null,
            "height": null,
            "min_height": null,
            "padding": null,
            "grid_auto_rows": null,
            "grid_gap": null,
            "max_width": null,
            "order": null,
            "_view_module_version": "1.2.0",
            "grid_template_areas": null,
            "object_position": null,
            "object_fit": null,
            "grid_auto_columns": null,
            "margin": null,
            "display": null,
            "left": null
          }
        },
        "1101c46da9e1466ca29007e744596084": {
          "model_module": "@jupyter-widgets/controls",
          "model_name": "VBoxModel",
          "model_module_version": "1.5.0",
          "state": {
            "_view_name": "VBoxView",
            "_dom_classes": [],
            "_model_name": "VBoxModel",
            "_view_module": "@jupyter-widgets/controls",
            "_model_module_version": "1.5.0",
            "_view_count": null,
            "_view_module_version": "1.5.0",
            "box_style": "",
            "layout": "IPY_MODEL_527e4e7e9b744a7b83672816d1d7c22d",
            "_model_module": "@jupyter-widgets/controls",
            "children": [
              "IPY_MODEL_eeb525052d2141a590c2235ccad22a3b",
              "IPY_MODEL_4525f726dc07422185b1f1e629240266"
            ]
          }
        },
        "527e4e7e9b744a7b83672816d1d7c22d": {
          "model_module": "@jupyter-widgets/base",
          "model_name": "LayoutModel",
          "model_module_version": "1.2.0",
          "state": {
            "_view_name": "LayoutView",
            "grid_template_rows": null,
            "right": null,
            "justify_content": null,
            "_view_module": "@jupyter-widgets/base",
            "overflow": null,
            "_model_module_version": "1.2.0",
            "_view_count": null,
            "flex_flow": null,
            "width": null,
            "min_width": null,
            "border": null,
            "align_items": null,
            "bottom": null,
            "_model_module": "@jupyter-widgets/base",
            "top": null,
            "grid_column": null,
            "overflow_y": null,
            "overflow_x": null,
            "grid_auto_flow": null,
            "grid_area": null,
            "grid_template_columns": null,
            "flex": null,
            "_model_name": "LayoutModel",
            "justify_items": null,
            "grid_row": null,
            "max_height": null,
            "align_content": null,
            "visibility": null,
            "align_self": null,
            "height": null,
            "min_height": null,
            "padding": null,
            "grid_auto_rows": null,
            "grid_gap": null,
            "max_width": null,
            "order": null,
            "_view_module_version": "1.2.0",
            "grid_template_areas": null,
            "object_position": null,
            "object_fit": null,
            "grid_auto_columns": null,
            "margin": null,
            "display": null,
            "left": null
          }
        },
        "eeb525052d2141a590c2235ccad22a3b": {
          "model_module": "@jupyter-widgets/controls",
          "model_name": "LabelModel",
          "model_module_version": "1.5.0",
          "state": {
            "_view_name": "LabelView",
            "style": "IPY_MODEL_b44fae64bf564aa6b67b2403e7fdb87b",
            "_dom_classes": [],
            "description": "",
            "_model_name": "LabelModel",
            "placeholder": "​",
            "_view_module": "@jupyter-widgets/controls",
            "_model_module_version": "1.5.0",
            "value": " 0.37MB of 0.37MB uploaded (0.00MB deduped)\r",
            "_view_count": null,
            "_view_module_version": "1.5.0",
            "description_tooltip": null,
            "_model_module": "@jupyter-widgets/controls",
            "layout": "IPY_MODEL_f5f8d6b20fac4a34b8a11c2c8bf07e63"
          }
        },
        "4525f726dc07422185b1f1e629240266": {
          "model_module": "@jupyter-widgets/controls",
          "model_name": "FloatProgressModel",
          "model_module_version": "1.5.0",
          "state": {
            "_view_name": "ProgressView",
            "style": "IPY_MODEL_6b770d6231aa4b50a6018765a291790d",
            "_dom_classes": [],
            "description": "",
            "_model_name": "FloatProgressModel",
            "bar_style": "",
            "max": 1,
            "_view_module": "@jupyter-widgets/controls",
            "_model_module_version": "1.5.0",
            "value": 1,
            "_view_count": null,
            "_view_module_version": "1.5.0",
            "orientation": "horizontal",
            "min": 0,
            "description_tooltip": null,
            "_model_module": "@jupyter-widgets/controls",
            "layout": "IPY_MODEL_63eabd93958a46f1b2c3b713d01d4b07"
          }
        },
        "b44fae64bf564aa6b67b2403e7fdb87b": {
          "model_module": "@jupyter-widgets/controls",
          "model_name": "DescriptionStyleModel",
          "model_module_version": "1.5.0",
          "state": {
            "_view_name": "StyleView",
            "_model_name": "DescriptionStyleModel",
            "description_width": "",
            "_view_module": "@jupyter-widgets/base",
            "_model_module_version": "1.5.0",
            "_view_count": null,
            "_view_module_version": "1.2.0",
            "_model_module": "@jupyter-widgets/controls"
          }
        },
        "f5f8d6b20fac4a34b8a11c2c8bf07e63": {
          "model_module": "@jupyter-widgets/base",
          "model_name": "LayoutModel",
          "model_module_version": "1.2.0",
          "state": {
            "_view_name": "LayoutView",
            "grid_template_rows": null,
            "right": null,
            "justify_content": null,
            "_view_module": "@jupyter-widgets/base",
            "overflow": null,
            "_model_module_version": "1.2.0",
            "_view_count": null,
            "flex_flow": null,
            "width": null,
            "min_width": null,
            "border": null,
            "align_items": null,
            "bottom": null,
            "_model_module": "@jupyter-widgets/base",
            "top": null,
            "grid_column": null,
            "overflow_y": null,
            "overflow_x": null,
            "grid_auto_flow": null,
            "grid_area": null,
            "grid_template_columns": null,
            "flex": null,
            "_model_name": "LayoutModel",
            "justify_items": null,
            "grid_row": null,
            "max_height": null,
            "align_content": null,
            "visibility": null,
            "align_self": null,
            "height": null,
            "min_height": null,
            "padding": null,
            "grid_auto_rows": null,
            "grid_gap": null,
            "max_width": null,
            "order": null,
            "_view_module_version": "1.2.0",
            "grid_template_areas": null,
            "object_position": null,
            "object_fit": null,
            "grid_auto_columns": null,
            "margin": null,
            "display": null,
            "left": null
          }
        },
        "6b770d6231aa4b50a6018765a291790d": {
          "model_module": "@jupyter-widgets/controls",
          "model_name": "ProgressStyleModel",
          "model_module_version": "1.5.0",
          "state": {
            "_view_name": "StyleView",
            "_model_name": "ProgressStyleModel",
            "description_width": "",
            "_view_module": "@jupyter-widgets/base",
            "_model_module_version": "1.5.0",
            "_view_count": null,
            "_view_module_version": "1.2.0",
            "bar_color": null,
            "_model_module": "@jupyter-widgets/controls"
          }
        },
        "63eabd93958a46f1b2c3b713d01d4b07": {
          "model_module": "@jupyter-widgets/base",
          "model_name": "LayoutModel",
          "model_module_version": "1.2.0",
          "state": {
            "_view_name": "LayoutView",
            "grid_template_rows": null,
            "right": null,
            "justify_content": null,
            "_view_module": "@jupyter-widgets/base",
            "overflow": null,
            "_model_module_version": "1.2.0",
            "_view_count": null,
            "flex_flow": null,
            "width": null,
            "min_width": null,
            "border": null,
            "align_items": null,
            "bottom": null,
            "_model_module": "@jupyter-widgets/base",
            "top": null,
            "grid_column": null,
            "overflow_y": null,
            "overflow_x": null,
            "grid_auto_flow": null,
            "grid_area": null,
            "grid_template_columns": null,
            "flex": null,
            "_model_name": "LayoutModel",
            "justify_items": null,
            "grid_row": null,
            "max_height": null,
            "align_content": null,
            "visibility": null,
            "align_self": null,
            "height": null,
            "min_height": null,
            "padding": null,
            "grid_auto_rows": null,
            "grid_gap": null,
            "max_width": null,
            "order": null,
            "_view_module_version": "1.2.0",
            "grid_template_areas": null,
            "object_position": null,
            "object_fit": null,
            "grid_auto_columns": null,
            "margin": null,
            "display": null,
            "left": null
          }
        },
        "0cabf1676604493783d6804fa4aaf8ee": {
          "model_module": "@jupyter-widgets/controls",
          "model_name": "VBoxModel",
          "model_module_version": "1.5.0",
          "state": {
            "_view_name": "VBoxView",
            "_dom_classes": [],
            "_model_name": "VBoxModel",
            "_view_module": "@jupyter-widgets/controls",
            "_model_module_version": "1.5.0",
            "_view_count": null,
            "_view_module_version": "1.5.0",
            "box_style": "",
            "layout": "IPY_MODEL_b1ba6dfa78b24772b1952742c7cd39df",
            "_model_module": "@jupyter-widgets/controls",
            "children": [
              "IPY_MODEL_939f17ffa19b46f8b5eca9c061c78e03",
              "IPY_MODEL_520a2f94594a4e1da3d896e361c61740"
            ]
          }
        },
        "b1ba6dfa78b24772b1952742c7cd39df": {
          "model_module": "@jupyter-widgets/base",
          "model_name": "LayoutModel",
          "model_module_version": "1.2.0",
          "state": {
            "_view_name": "LayoutView",
            "grid_template_rows": null,
            "right": null,
            "justify_content": null,
            "_view_module": "@jupyter-widgets/base",
            "overflow": null,
            "_model_module_version": "1.2.0",
            "_view_count": null,
            "flex_flow": null,
            "width": null,
            "min_width": null,
            "border": null,
            "align_items": null,
            "bottom": null,
            "_model_module": "@jupyter-widgets/base",
            "top": null,
            "grid_column": null,
            "overflow_y": null,
            "overflow_x": null,
            "grid_auto_flow": null,
            "grid_area": null,
            "grid_template_columns": null,
            "flex": null,
            "_model_name": "LayoutModel",
            "justify_items": null,
            "grid_row": null,
            "max_height": null,
            "align_content": null,
            "visibility": null,
            "align_self": null,
            "height": null,
            "min_height": null,
            "padding": null,
            "grid_auto_rows": null,
            "grid_gap": null,
            "max_width": null,
            "order": null,
            "_view_module_version": "1.2.0",
            "grid_template_areas": null,
            "object_position": null,
            "object_fit": null,
            "grid_auto_columns": null,
            "margin": null,
            "display": null,
            "left": null
          }
        },
        "939f17ffa19b46f8b5eca9c061c78e03": {
          "model_module": "@jupyter-widgets/controls",
          "model_name": "LabelModel",
          "model_module_version": "1.5.0",
          "state": {
            "_view_name": "LabelView",
            "style": "IPY_MODEL_869ab65ffc964772b4d666186b8b8863",
            "_dom_classes": [],
            "description": "",
            "_model_name": "LabelModel",
            "placeholder": "​",
            "_view_module": "@jupyter-widgets/controls",
            "_model_module_version": "1.5.0",
            "value": " 0.62MB of 0.62MB uploaded (0.00MB deduped)\r",
            "_view_count": null,
            "_view_module_version": "1.5.0",
            "description_tooltip": null,
            "_model_module": "@jupyter-widgets/controls",
            "layout": "IPY_MODEL_342ee64140624cb1b0f3cdfb864bfabb"
          }
        },
        "520a2f94594a4e1da3d896e361c61740": {
          "model_module": "@jupyter-widgets/controls",
          "model_name": "FloatProgressModel",
          "model_module_version": "1.5.0",
          "state": {
            "_view_name": "ProgressView",
            "style": "IPY_MODEL_227e718fec004e3b940a322d609a112b",
            "_dom_classes": [],
            "description": "",
            "_model_name": "FloatProgressModel",
            "bar_style": "",
            "max": 1,
            "_view_module": "@jupyter-widgets/controls",
            "_model_module_version": "1.5.0",
            "value": 1,
            "_view_count": null,
            "_view_module_version": "1.5.0",
            "orientation": "horizontal",
            "min": 0,
            "description_tooltip": null,
            "_model_module": "@jupyter-widgets/controls",
            "layout": "IPY_MODEL_a79f5f229f994d40ba7a29202ced4bcb"
          }
        },
        "869ab65ffc964772b4d666186b8b8863": {
          "model_module": "@jupyter-widgets/controls",
          "model_name": "DescriptionStyleModel",
          "model_module_version": "1.5.0",
          "state": {
            "_view_name": "StyleView",
            "_model_name": "DescriptionStyleModel",
            "description_width": "",
            "_view_module": "@jupyter-widgets/base",
            "_model_module_version": "1.5.0",
            "_view_count": null,
            "_view_module_version": "1.2.0",
            "_model_module": "@jupyter-widgets/controls"
          }
        },
        "342ee64140624cb1b0f3cdfb864bfabb": {
          "model_module": "@jupyter-widgets/base",
          "model_name": "LayoutModel",
          "model_module_version": "1.2.0",
          "state": {
            "_view_name": "LayoutView",
            "grid_template_rows": null,
            "right": null,
            "justify_content": null,
            "_view_module": "@jupyter-widgets/base",
            "overflow": null,
            "_model_module_version": "1.2.0",
            "_view_count": null,
            "flex_flow": null,
            "width": null,
            "min_width": null,
            "border": null,
            "align_items": null,
            "bottom": null,
            "_model_module": "@jupyter-widgets/base",
            "top": null,
            "grid_column": null,
            "overflow_y": null,
            "overflow_x": null,
            "grid_auto_flow": null,
            "grid_area": null,
            "grid_template_columns": null,
            "flex": null,
            "_model_name": "LayoutModel",
            "justify_items": null,
            "grid_row": null,
            "max_height": null,
            "align_content": null,
            "visibility": null,
            "align_self": null,
            "height": null,
            "min_height": null,
            "padding": null,
            "grid_auto_rows": null,
            "grid_gap": null,
            "max_width": null,
            "order": null,
            "_view_module_version": "1.2.0",
            "grid_template_areas": null,
            "object_position": null,
            "object_fit": null,
            "grid_auto_columns": null,
            "margin": null,
            "display": null,
            "left": null
          }
        },
        "227e718fec004e3b940a322d609a112b": {
          "model_module": "@jupyter-widgets/controls",
          "model_name": "ProgressStyleModel",
          "model_module_version": "1.5.0",
          "state": {
            "_view_name": "StyleView",
            "_model_name": "ProgressStyleModel",
            "description_width": "",
            "_view_module": "@jupyter-widgets/base",
            "_model_module_version": "1.5.0",
            "_view_count": null,
            "_view_module_version": "1.2.0",
            "bar_color": null,
            "_model_module": "@jupyter-widgets/controls"
          }
        },
        "a79f5f229f994d40ba7a29202ced4bcb": {
          "model_module": "@jupyter-widgets/base",
          "model_name": "LayoutModel",
          "model_module_version": "1.2.0",
          "state": {
            "_view_name": "LayoutView",
            "grid_template_rows": null,
            "right": null,
            "justify_content": null,
            "_view_module": "@jupyter-widgets/base",
            "overflow": null,
            "_model_module_version": "1.2.0",
            "_view_count": null,
            "flex_flow": null,
            "width": null,
            "min_width": null,
            "border": null,
            "align_items": null,
            "bottom": null,
            "_model_module": "@jupyter-widgets/base",
            "top": null,
            "grid_column": null,
            "overflow_y": null,
            "overflow_x": null,
            "grid_auto_flow": null,
            "grid_area": null,
            "grid_template_columns": null,
            "flex": null,
            "_model_name": "LayoutModel",
            "justify_items": null,
            "grid_row": null,
            "max_height": null,
            "align_content": null,
            "visibility": null,
            "align_self": null,
            "height": null,
            "min_height": null,
            "padding": null,
            "grid_auto_rows": null,
            "grid_gap": null,
            "max_width": null,
            "order": null,
            "_view_module_version": "1.2.0",
            "grid_template_areas": null,
            "object_position": null,
            "object_fit": null,
            "grid_auto_columns": null,
            "margin": null,
            "display": null,
            "left": null
          }
        }
      }
    }
  },
  "cells": [
    {
      "cell_type": "markdown",
      "metadata": {
        "id": "cLDC06POu-Z5"
      },
      "source": [
        "# Invariant Risk Minimization\n",
        "\n",
        "This is an attempt to reproduce the \"Colored MNIST\" experiments from the\n",
        "paper [Invariant Risk Minimization](https://arxiv.org/abs/1907.02893)\n",
        "by Arjovsky, et. al."
      ]
    },
    {
      "cell_type": "code",
      "metadata": {
        "id": "sopHPgEhu4Jo"
      },
      "source": [
        "import os\n",
        "\n",
        "import numpy as np\n",
        "from PIL import Image\n",
        "\n",
        "import matplotlib.pyplot as plt\n",
        "\n",
        "import torch\n",
        "import torch.nn as nn\n",
        "import torch.nn.functional as F\n",
        "import torch.optim as optim\n",
        "from torch.autograd import grad\n",
        "from torchvision import transforms\n",
        "from torchvision import datasets\n",
        "import torchvision.datasets.utils as dataset_utils"
      ],
      "execution_count": null,
      "outputs": []
    },
    {
      "cell_type": "code",
      "metadata": {
        "id": "i_u5rBUnvdxX"
      },
      "source": [
        ""
      ],
      "execution_count": null,
      "outputs": []
    },
    {
      "cell_type": "markdown",
      "metadata": {
        "id": "kkTMK-oJveGg"
      },
      "source": [
        "## Prepare the colored MNIST dataset\n",
        "\n",
        "We define three environments (two training, one test) by randomly splitting the MNIST dataset in thirds and transforming each example as follows:\n",
        "1. Assign a binary label y to the image based on the digit: y = 0 for digits 0-4\n",
        "and y = 1 for digits 5-9.\n",
        "2. Flip the label with 25% probability.\n",
        "3. Color the image either red or green according to its (possibly flipped) label.\n",
        "4. Flip the color with a probability e that depends on the environment: 20% in\n",
        "the first training environment, 10% in the second training environment, and\n",
        "90% in the test environment."
      ]
    },
    {
      "cell_type": "code",
      "metadata": {
        "id": "knP-xNzavgAb"
      },
      "source": [
        "def color_grayscale_arr(arr, red=True):\n",
        "  \"\"\"Converts grayscale image to either red or green\"\"\"\n",
        "  assert arr.ndim == 2\n",
        "  dtype = arr.dtype\n",
        "  h, w = arr.shape\n",
        "  arr = np.reshape(arr, [h, w, 1])\n",
        "  if red:\n",
        "    arr = np.concatenate([arr,\n",
        "                          np.zeros((h, w, 2), dtype=dtype)], axis=2)\n",
        "  else:\n",
        "    arr = np.concatenate([np.zeros((h, w, 1), dtype=dtype),\n",
        "                          arr,\n",
        "                          np.zeros((h, w, 1), dtype=dtype)], axis=2)\n",
        "  return arr\n",
        "\n",
        "\n",
        "class ColoredMNIST(datasets.VisionDataset):\n",
        "  \"\"\"\n",
        "  Colored MNIST dataset for testing IRM. Prepared using procedure from https://arxiv.org/pdf/1907.02893.pdf\n",
        "\n",
        "  Args:\n",
        "    root (string): Root directory of dataset where ``ColoredMNIST/*.pt`` will exist.\n",
        "    env (string): Which environment to load. Must be 1 of 'train1', 'train2', 'test', or 'all_train'.\n",
        "    transform (callable, optional): A function/transform that  takes in an PIL image\n",
        "      and returns a transformed version. E.g, ``transforms.RandomCrop``\n",
        "    target_transform (callable, optional): A function/transform that takes in the\n",
        "      target and transforms it.\n",
        "  \"\"\"\n",
        "  def __init__(self, root='./data', env='train1', transform=None, target_transform=None):\n",
        "    super(ColoredMNIST, self).__init__(root, transform=transform,\n",
        "                                target_transform=target_transform)\n",
        "\n",
        "    self.prepare_colored_mnist()\n",
        "    if env in ['train1', 'train2', 'test']:\n",
        "      self.data_label_tuples = torch.load(os.path.join(self.root, 'ColoredMNIST', env) + '.pt')\n",
        "    elif env == 'all_train':\n",
        "      self.data_label_tuples = torch.load(os.path.join(self.root, 'ColoredMNIST', 'train1.pt')) + \\\n",
        "                               torch.load(os.path.join(self.root, 'ColoredMNIST', 'train2.pt'))\n",
        "    else:\n",
        "      raise RuntimeError(f'{env} env unknown. Valid envs are train1, train2, test, and all_train')\n",
        "\n",
        "  def __getitem__(self, index):\n",
        "    \"\"\"\n",
        "    Args:\n",
        "        index (int): Index\n",
        "\n",
        "    Returns:\n",
        "        tuple: (image, target) where target is index of the target class.\n",
        "    \"\"\"\n",
        "    img, target = self.data_label_tuples[index]\n",
        "\n",
        "    if self.transform is not None:\n",
        "      img = self.transform(img)\n",
        "\n",
        "    if self.target_transform is not None:\n",
        "      target = self.target_transform(target)\n",
        "\n",
        "    return img, target\n",
        "\n",
        "  def __len__(self):\n",
        "    return len(self.data_label_tuples)\n",
        "\n",
        "  def prepare_colored_mnist(self):\n",
        "    colored_mnist_dir = os.path.join(self.root, 'ColoredMNIST')\n",
        "    if os.path.exists(os.path.join(colored_mnist_dir, 'train1.pt')) \\\n",
        "        and os.path.exists(os.path.join(colored_mnist_dir, 'train2.pt')) \\\n",
        "        and os.path.exists(os.path.join(colored_mnist_dir, 'test.pt')):\n",
        "      print('Colored MNIST dataset already exists')\n",
        "      return\n",
        "\n",
        "    print('Preparing Colored MNIST')\n",
        "    train_mnist = datasets.mnist.MNIST(self.root, train=True, download=True)\n",
        "\n",
        "    train1_set = []\n",
        "    train2_set = []\n",
        "    test_set = []\n",
        "    for idx, (im, label) in enumerate(train_mnist):\n",
        "      if idx % 10000 == 0:\n",
        "        print(f'Converting image {idx}/{len(train_mnist)}')\n",
        "      im_array = np.array(im)\n",
        "\n",
        "      # Assign a binary label y to the image based on the digit\n",
        "      binary_label = 0 if label < 5 else 1\n",
        "\n",
        "      # Flip label with 25% probability\n",
        "      if np.random.uniform() < 0.25:\n",
        "        binary_label = binary_label ^ 1\n",
        "\n",
        "      # Color the image either red or green according to its possibly flipped label\n",
        "      color_red = binary_label == 0\n",
        "\n",
        "      # Flip the color with a probability e that depends on the environment\n",
        "      if idx < 20000:\n",
        "        # 20% in the first training environment\n",
        "        if np.random.uniform() < 0.2:\n",
        "          color_red = not color_red\n",
        "      elif idx < 40000:\n",
        "        # 10% in the first training environment\n",
        "        if np.random.uniform() < 0.1:\n",
        "          color_red = not color_red\n",
        "      else:\n",
        "        # 90% in the test environment\n",
        "        if np.random.uniform() < 0.9:\n",
        "          color_red = not color_red\n",
        "\n",
        "      colored_arr = color_grayscale_arr(im_array, red=color_red)\n",
        "\n",
        "      if idx < 20000:\n",
        "        train1_set.append((Image.fromarray(colored_arr), binary_label))\n",
        "      elif idx < 40000:\n",
        "        train2_set.append((Image.fromarray(colored_arr), binary_label))\n",
        "      else:\n",
        "        test_set.append((Image.fromarray(colored_arr), binary_label))\n",
        "\n",
        "      # Debug\n",
        "      # print('original label', type(label), label)\n",
        "      # print('binary label', binary_label)\n",
        "      # print('assigned color', 'red' if color_red else 'green')\n",
        "      # plt.imshow(colored_arr)\n",
        "      # plt.show()\n",
        "      # break\n",
        "\n",
        "    os.makedirs(colored_mnist_dir, exist_ok=True)\n",
        "    # dataset_utils.makedir_exist_ok(colored_mnist_dir)\n",
        "    torch.save(train1_set, os.path.join(colored_mnist_dir, 'train1.pt'))\n",
        "    torch.save(train2_set, os.path.join(colored_mnist_dir, 'train2.pt'))\n",
        "    torch.save(test_set, os.path.join(colored_mnist_dir, 'test.pt'))\n"
      ],
      "execution_count": null,
      "outputs": []
    },
    {
      "cell_type": "markdown",
      "metadata": {
        "id": "XOnjIjK8q7UJ"
      },
      "source": [
        "### Plot the data"
      ]
    },
    {
      "cell_type": "code",
      "metadata": {
        "id": "EwUoQZCyvs6T"
      },
      "source": [
        "def plot_dataset_digits(dataset):\n",
        "  fig = plt.figure(figsize=(13, 8))\n",
        "  columns = 6\n",
        "  rows = 3\n",
        "  # ax enables access to manipulate each of subplots\n",
        "  ax = []\n",
        "\n",
        "  for i in range(columns * rows):\n",
        "    img, label = dataset[i]\n",
        "    # create subplot and append to ax\n",
        "    ax.append(fig.add_subplot(rows, columns, i + 1))\n",
        "    ax[-1].set_title(\"Label: \" + str(label))  # set title\n",
        "    plt.imshow(img)\n",
        "\n",
        "  plt.show()  # finally, render the plot\n",
        "  \n"
      ],
      "execution_count": null,
      "outputs": []
    },
    {
      "cell_type": "markdown",
      "metadata": {
        "id": "11YqxmhjrSMi"
      },
      "source": [
        "Plotting the train set"
      ]
    },
    {
      "cell_type": "code",
      "metadata": {
        "id": "HDh4qJS_rQwK",
        "colab": {
          "base_uri": "https://localhost:8080/",
          "height": 492
        },
        "outputId": "7952df1f-350d-4913-c25c-9f89bf9b9cd9"
      },
      "source": [
        "train1_set = ColoredMNIST(root='./data', env='train1')\n",
        "plot_dataset_digits(train1_set)"
      ],
      "execution_count": null,
      "outputs": [
        {
          "output_type": "stream",
          "name": "stdout",
          "text": [
            "Colored MNIST dataset already exists\n"
          ]
        },
        {
          "output_type": "display_data",
          "data": {
            "image/png": "[encoded data removed]",
            "text/plain": [
              "<Figure size 936x576 with 18 Axes>"
            ]
          },
          "metadata": {
            "needs_background": "light"
          }
        }
      ]
    },
    {
      "cell_type": "markdown",
      "metadata": {
        "id": "LhsLWjOCrqWx"
      },
      "source": [
        "Plotting the test set"
      ]
    },
    {
      "cell_type": "code",
      "metadata": {
        "id": "OdmmW48srQyk",
        "colab": {
          "base_uri": "https://localhost:8080/",
          "height": 492
        },
        "outputId": "0920e271-9aa0-413e-e8cb-76341b81c80b"
      },
      "source": [
        "test_set = ColoredMNIST(root='./data', env='test')\n",
        "plot_dataset_digits(test_set)"
      ],
      "execution_count": null,
      "outputs": [
        {
          "output_type": "stream",
          "name": "stdout",
          "text": [
            "Colored MNIST dataset already exists\n"
          ]
        },
        {
          "output_type": "display_data",
          "data": {
            "image/png": "[encoded data removed]",
            "text/plain": [
              "<Figure size 936x576 with 18 Axes>"
            ]
          },
          "metadata": {
            "needs_background": "light"
          }
        }
      ]
    },
    {
      "cell_type": "markdown",
      "metadata": {
        "id": "fo3Whs4hrr-C"
      },
      "source": [
        "Notice how the correlation between color and label are reversed in the train and test set."
      ]
    },
    {
      "cell_type": "markdown",
      "metadata": {
        "id": "yobtL1nhsIaL"
      },
      "source": [
        "## CGES Utils"
      ]
    },
    {
      "cell_type": "markdown",
      "metadata": {
        "id": "jleIZ9vNv5rV"
      },
      "source": [
        "## Define neural network\n",
        "\n",
        "The paper uses an MLP but a Convnet works fine too."
      ]
    },
    {
      "cell_type": "code",
      "metadata": {
        "id": "9hYJRewnv80x"
      },
      "source": [
        "class Net(nn.Module):\n",
        "  def __init__(self):\n",
        "    super(Net, self).__init__()\n",
        "    self.fc1 = nn.Linear(3 * 28 * 28, 512)\n",
        "    self.fc2 = nn.Linear(512, 512)\n",
        "    self.fc3 = nn.Linear(512, 1)\n",
        "\n",
        "  def forward(self, x):\n",
        "    x = x.view(-1, 3 * 28 * 28)\n",
        "    x = F.relu(self.fc1(x))\n",
        "    x = F.relu(self.fc2(x))\n",
        "    logits = self.fc3(x).flatten()\n",
        "    return logits\n",
        "\n",
        "\n",
        "class ConvNet(nn.Module):\n",
        "  def __init__(self):\n",
        "    super(ConvNet, self).__init__()\n",
        "    self.conv1 = nn.Conv2d(3, 20, 5, 1)\n",
        "    self.conv2 = nn.Conv2d(20, 50, 5, 1)\n",
        "    self.fc1 = nn.Linear(4 * 4 * 50, 500)\n",
        "    self.fc2 = nn.Linear(500, 1)\n",
        "\n",
        "  def forward(self, x):\n",
        "    x = F.relu(self.conv1(x))\n",
        "    x = F.max_pool2d(x, 2, 2)\n",
        "    x = F.relu(self.conv2(x))\n",
        "    x = F.max_pool2d(x, 2, 2)\n",
        "    x = x.view(-1, 4 * 4 * 50)\n",
        "    x = F.relu(self.fc1(x))\n",
        "    logits = self.fc2(x).flatten()\n",
        "    return logits\n"
      ],
      "execution_count": null,
      "outputs": []
    },
    {
      "cell_type": "code",
      "metadata": {
        "id": "Uj5Q6UTlwGM3"
      },
      "source": [
        ""
      ],
      "execution_count": null,
      "outputs": []
    },
    {
      "cell_type": "markdown",
      "metadata": {
        "id": "il3cATYxwIyP"
      },
      "source": [
        "## Test ERM as a baseline\n",
        "\n",
        "Using ERM as a baseline, we expect to train a neural network that uses color instead of the actual digit to classify, completely failing on the test set when the colors are switched."
      ]
    },
    {
      "cell_type": "code",
      "metadata": {
        "id": "S2oOyMQgtKkQ"
      },
      "source": [
        "from argparse import Namespace\n",
        "\n",
        "args = Namespace(**dict({\n",
        "  'cges': False,\n",
        "  'lamb': 0.0006,\n",
        "  'mu': 0.8,\n",
        "  'chvar': 0.2,\n",
        "  'lr': 0.0001\n",
        "}))"
      ],
      "execution_count": null,
      "outputs": []
    },
    {
      "cell_type": "code",
      "metadata": {
        "id": "yQvgkLULwx0j"
      },
      "source": [
        "!pip install wandb"
      ],
      "execution_count": null,
      "outputs": []
    },
    {
      "cell_type": "code",
      "metadata": {
        "colab": {
          "base_uri": "https://localhost:8080/"
        },
        "id": "xFYrHkYAwx65",
        "outputId": "c117ae63-312a-438d-a7e9-2042b0acb0c7"
      },
      "source": [
        "!wandb login 28f856e56e11e0b499f7b141ce1d61b0a6671e97"
      ],
      "execution_count": null,
      "outputs": [
        {
          "output_type": "stream",
          "name": "stdout",
          "text": [
            "\u001b[34m\u001b[1mwandb\u001b[0m: Appending key for api.wandb.ai to your netrc file: /root/.netrc\n"
          ]
        }
      ]
    },
    {
      "cell_type": "code",
      "metadata": {
        "id": "YyIIrrqu0HHn"
      },
      "source": [
        "import random\n",
        "import numpy as np\n",
        "import torch\n",
        "import os\n",
        "\n",
        "def set_seed(seed):\n",
        "    random.seed(seed)\n",
        "    np.random.seed(seed)\n",
        "    torch.manual_seed(seed)\n",
        "    if torch.cuda.is_available():\n",
        "        torch.cuda.manual_seed(seed)\n",
        "        torch.cuda.manual_seed_all(seed)\n",
        "        torch.backends.cudnn.deterministic = True\n",
        "        torch.backends.cudnn.benchmark = False\n",
        "    os.environ[\"PYTHONHASHSEED\"] = str(seed) "
      ],
      "execution_count": null,
      "outputs": []
    },
    {
      "cell_type": "code",
      "metadata": {
        "id": "L4qZtXx_weBb"
      },
      "source": [
        "from utils import apply_cges\n",
        "import wandb\n",
        "\n",
        "def test_model(model, device, test_loader, set_name=\"test_set\", epoch=-1):\n",
        "  model.eval()\n",
        "  test_loss = 0\n",
        "  correct = 0\n",
        "  with torch.no_grad():\n",
        "    for data, target in test_loader:\n",
        "      data, target = data.to(device), target.to(device).float()\n",
        "      output = model(data)\n",
        "      test_loss += F.binary_cross_entropy_with_logits(output, target, reduction='sum').item()  # sum up batch loss\n",
        "      pred = torch.where(torch.gt(output, torch.Tensor([0.0]).to(device)),\n",
        "                         torch.Tensor([1.0]).to(device),\n",
        "                         torch.Tensor([0.0]).to(device))  # get the index of the max log-probability\n",
        "      correct += pred.eq(target.view_as(pred)).sum().item()\n",
        "\n",
        "  test_loss /= len(test_loader.dataset)\n",
        "\n",
        "  print('Performance on {}: Average loss: {:.4f}, Accuracy: {}/{} ({:.2f}%)'.format(\n",
        "    set_name, test_loss, correct, len(test_loader.dataset),\n",
        "    100. * correct / len(test_loader.dataset)))\n",
        "\n",
        "  wandb.log({str(set_name) +\"/loss\": test_loss}, step=epoch)\n",
        "  wandb.log({str(set_name) +\"/acc\": 100. * correct / len(test_loader.dataset)}, step=epoch)\n",
        "\n",
        "  return 100. * correct / len(test_loader.dataset)\n",
        "\n",
        "\n",
        "def erm_train(args, model, device, train_loader, optimizer, epoch):\n",
        "  model.train()\n",
        "\n",
        "  for batch_idx, (data, target) in enumerate(train_loader):\n",
        "    data, target = data.to(device), target.to(device).float()\n",
        "    optimizer.zero_grad()\n",
        "    output = model(data)\n",
        "    loss = F.binary_cross_entropy_with_logits(output, target)\n",
        "    loss.backward()\n",
        "    optimizer.step()\n",
        "\n",
        "    if args.cges:\n",
        "        apply_cges(args, model, optimizer)\n",
        "\n",
        "  print('Train Epoch: {} [{}/{} ({:.0f}%)]\\tLoss: {:.6f}'.format(\n",
        "    epoch, batch_idx * len(data), len(train_loader.dataset),\n",
        "            100. * batch_idx / len(train_loader), loss.item()))\n",
        "  \n",
        "  wandb.log({\"train/loss\": loss.item()}, step=epoch)\n",
        "\n",
        "\n",
        "def train_and_test_erm():\n",
        "  wandb.init(entity=\"arjunashok\", project=\"irm-notebook\", config=vars(args))\n",
        "  if args.cges:\n",
        "      wandb.run.name = \"erm-cges-\"+str(args.lamb)\n",
        "  else:\n",
        "    wandb.run.name = \"erm-plain\"\n",
        "\n",
        "\n",
        "  set_seed(0)\n",
        "\n",
        "  use_cuda = torch.cuda.is_available()\n",
        "  device = torch.device(\"cuda\" if use_cuda else \"cpu\")\n",
        "\n",
        "  kwargs = {'num_workers': 8, 'pin_memory': True} if use_cuda else {}\n",
        "  all_train_loader = torch.utils.data.DataLoader(\n",
        "    ColoredMNIST(root='./data', env='all_train',\n",
        "                 transform=transforms.Compose([\n",
        "                     transforms.ToTensor(),\n",
        "                     transforms.Normalize((0.1307, 0.1307, 0.), (0.3081, 0.3081, 0.3081))\n",
        "                   ])),\n",
        "    batch_size=64, shuffle=True, **kwargs)\n",
        "\n",
        "  test_loader = torch.utils.data.DataLoader(\n",
        "    ColoredMNIST(root='./data', env='test', transform=transforms.Compose([\n",
        "      transforms.ToTensor(),\n",
        "      transforms.Normalize((0.1307, 0.1307, 0.), (0.3081, 0.3081, 0.3081))\n",
        "    ])),\n",
        "    batch_size=1000, shuffle=True, **kwargs)\n",
        "\n",
        "  model = ConvNet().to(device)\n",
        "  optimizer = optim.Adam(model.parameters(), lr=args.lr)\n",
        "\n",
        "  best_test_acc = 0\n",
        "\n",
        "  for epoch in range(1, 100):\n",
        "    erm_train(args, model, device, all_train_loader, optimizer, epoch)\n",
        "    test_model(model, device, all_train_loader, set_name='train_set', epoch=epoch)\n",
        "    test_acc = test_model(model, device, test_loader, epoch=epoch)\n",
        "\n",
        "    if test_acc > best_test_acc:\n",
        "      best_test_acc = test_acc\n",
        "\n",
        "    wandb.log({\"test_set/best_acc\": best_test_acc}, step=epoch)"
      ],
      "execution_count": null,
      "outputs": []
    },
    {
      "cell_type": "markdown",
      "metadata": {
        "id": "g1-MgdGuwlCY"
      },
      "source": [
        "## IRM\n",
        "\n",
        "After trying lots of hyperparameters and various tricks, this implementation \n",
        "seems to consistently achieve the paper-reported values \n",
        "(train accuracy > 70%, test accuracy > 60%), though there might be a bit of\n",
        "instability depending on the random seed.\n",
        "\n",
        "The most common failure case is when the gradient norm penalty term is weighted\n",
        "too highly relative to the ERM term. In this case, Φ converges to a function that \n",
        "returns the same value for all inputs. The classifier cannot recover from this point\n",
        "and the accuracy is stuck at 50% for all environments. This makes sense mathematically.\n",
        "If the intermediate representation is the same regardless of input, then *any*\n",
        "classifier is the ideal classifier, resulting in the penalty gradient being 0.\n",
        "\n",
        "Another failure case is when the gradient norm penalty is too low and the\n",
        "optimization essentially acts as in ERM (train accuracy > 80%, test accuracy ~10%).\n",
        "\n",
        "The most important trick I used to get this to work is through scheduled \n",
        "increase of the gradient norm penalty weight.\n",
        "We start at 0 for the gradient norm penalty weight, essentially beginning as ERM,\n",
        "then slowly increase it per epoch.\n",
        "\n",
        "I use early stopping to stop training once the accuracy on all environments, \n",
        "including the test set, reach an acceptable value. Yes, stopping training based on \n",
        "performance on the test set is not good practice, but I could not\n",
        "find a principled way of stopping training by only observing performance on the\n",
        "training environments. One thing that might be needed when applying IRM to\n",
        "real-world datasets is to leave out a separate environment as a validation set,\n",
        "which we can use for early stopping. The downside is we'll need a minimum of 4\n",
        "environments to perform IRM (2 train, 1 validation, 1 test)."
      ]
    },
    {
      "cell_type": "code",
      "metadata": {
        "id": "Kio2CQOdwqA9"
      },
      "source": [
        "def compute_irm_penalty(losses, dummy):\n",
        "  g1 = grad(losses[0::2].mean(), dummy, create_graph=True)[0]\n",
        "  g2 = grad(losses[1::2].mean(), dummy, create_graph=True)[0]\n",
        "  return (g1 * g2).sum()\n",
        "\n",
        "\n",
        "def irm_train(args, model, device, train_loaders, optimizer, epoch):\n",
        "  model.train()\n",
        "\n",
        "  train_loaders = [iter(x) for x in train_loaders]\n",
        "\n",
        "  dummy_w = torch.nn.Parameter(torch.Tensor([1.0])).to(device)\n",
        "\n",
        "  batch_idx = 0\n",
        "  penalty_multiplier = epoch ** 1.6\n",
        "  print(f'Using penalty multiplier {penalty_multiplier}')\n",
        "  while True:\n",
        "    optimizer.zero_grad()\n",
        "    error = 0\n",
        "    penalty = 0\n",
        "    for loader in train_loaders:\n",
        "      data, target = next(loader, (None, None))\n",
        "      if data is None:\n",
        "        return\n",
        "      data, target = data.to(device), target.to(device).float()\n",
        "      output = model(data)\n",
        "      loss_erm = F.binary_cross_entropy_with_logits(output * dummy_w, target, reduction='none')\n",
        "      penalty += compute_irm_penalty(loss_erm, dummy_w)\n",
        "      error += loss_erm.mean()\n",
        "    (error + penalty_multiplier * penalty).backward()\n",
        "    optimizer.step()\n",
        "\n",
        "    if args.cges:\n",
        "      apply_cges(args, model, optimizer)\n",
        "    batch_idx += 1\n",
        "\n",
        "  print('Train Epoch: {} [{}/{} ({:.0f}%)]\\tERM loss: {:.6f}\\tGrad penalty: {:.6f}'.format(\n",
        "    epoch, batch_idx * len(data), len(train_loaders[0]),\n",
        "            100. * batch_idx / len(train_loaders[0]), error.item(), penalty.item()))\n",
        "\n",
        "\n",
        "  wandb.log({\"train/loss\": error.item()}, step=epoch)\n",
        "  wandb.log({\"train/grad_penalty\": penalty.item()}, step=epoch)\n",
        "\n",
        "def train_and_test_irm():\n",
        "\n",
        "  import wandb\n",
        "\n",
        "  wandb.init(entity=\"arjunashok\", project=\"irm-notebook\", config=vars(args))\n",
        "  if args.cges:\n",
        "    wandb.run.name = \"irm-cges-\"+str(args.lamb)\n",
        "  else:\n",
        "    wandb.run.name = \"irm-plain\"\n",
        "\n",
        "  set_seed(0)\n",
        "\n",
        "  use_cuda = torch.cuda.is_available()\n",
        "  device = torch.device(\"cuda\" if use_cuda else \"cpu\")\n",
        "\n",
        "  kwargs = {'num_workers': 1, 'pin_memory': True} if use_cuda else {}\n",
        "  train1_loader = torch.utils.data.DataLoader(\n",
        "    ColoredMNIST(root='./data', env='train1',\n",
        "                 transform=transforms.Compose([\n",
        "                     transforms.ToTensor(),\n",
        "                     transforms.Normalize((0.1307, 0.1307, 0.), (0.3081, 0.3081, 0.3081))\n",
        "                   ])),\n",
        "    batch_size=2000, shuffle=True, **kwargs)\n",
        "\n",
        "  train2_loader = torch.utils.data.DataLoader(\n",
        "    ColoredMNIST(root='./data', env='train2',\n",
        "                 transform=transforms.Compose([\n",
        "                     transforms.ToTensor(),\n",
        "                     transforms.Normalize((0.1307, 0.1307, 0.), (0.3081, 0.3081, 0.3081))\n",
        "                   ])),\n",
        "    batch_size=2000, shuffle=True, **kwargs)\n",
        "\n",
        "  test_loader = torch.utils.data.DataLoader(\n",
        "    ColoredMNIST(root='./data', env='test', transform=transforms.Compose([\n",
        "      transforms.ToTensor(),\n",
        "      transforms.Normalize((0.1307, 0.1307, 0.), (0.3081, 0.3081, 0.3081))\n",
        "    ])),\n",
        "    batch_size=1000, shuffle=True, **kwargs)\n",
        "\n",
        "  model = ConvNet().to(device)\n",
        "  optimizer = optim.Adam(model.parameters(), lr=args.lr)\n",
        "\n",
        "  print(args)\n",
        "\n",
        "  best_test_acc = 0\n",
        "\n",
        "  for epoch in range(1, 100):\n",
        "    irm_train(args, model, device, [train1_loader, train2_loader], optimizer, epoch)\n",
        "    train1_acc = test_model(model, device, train1_loader, set_name='train1_set', epoch=epoch)\n",
        "    train2_acc = test_model(model, device, train2_loader, set_name='train2_set', epoch=epoch)\n",
        "    test_acc = test_model(model, device, test_loader, epoch=epoch)\n",
        "\n",
        "    if test_acc > best_test_acc:\n",
        "      best_test_acc = test_acc\n",
        "\n",
        "    wandb.log({\"test_set/best_acc\": best_test_acc}, step=epoch)\n",
        "\n",
        "    # if train1_acc > 70 and train2_acc > 70 and test_acc > 60:\n",
        "    #   print('found acceptable values. stopping training.')\n",
        "    #   return"
      ],
      "execution_count": null,
      "outputs": []
    },
    {
      "cell_type": "code",
      "metadata": {
        "id": "EGh00cHNxpPb",
        "colab": {
          "base_uri": "https://localhost:8080/",
          "height": 731,
          "referenced_widgets": [
            "8f9edac603a84c60993b2cdc8c8a2fbd",
            "b7be1a56cd99483cb1116fb032949e45",
            "303f4ce7d1d442179945e946a72595ca",
            "5ae0ac86752049f08f5a33f94aacaf01",
            "1b4f8eae681f4b17bd08745f04861bba",
            "43314268dcf742dfb653d3ea1627a66a",
            "613349fa88464589aab0e60082c225bd",
            "bda3a6513e7b49919333b08a766a3e4d"
          ]
        },
        "outputId": "170f423b-c513-4744-a353-f607c6041c0b"
      },
      "source": [
        "args.cges = True\n",
        "\n",
        "train_and_test_erm()\n",
        "train_and_test_irm()"
      ],
      "execution_count": null,
      "outputs": [
        {
          "output_type": "display_data",
          "data": {
            "text/html": [
              "Finishing last run (ID:3dvtqg43) before initializing another..."
            ],
            "text/plain": [
              "<IPython.core.display.HTML object>"
            ]
          },
          "metadata": {}
        },
        {
          "output_type": "display_data",
          "data": {
            "text/html": [
              "<br/>Waiting for W&B process to finish, PID 30439<br/>Program ended successfully."
            ],
            "text/plain": [
              "<IPython.core.display.HTML object>"
            ]
          },
          "metadata": {}
        },
        {
          "output_type": "display_data",
          "data": {
            "application/vnd.jupyter.widget-view+json": {
              "model_id": "8f9edac603a84c60993b2cdc8c8a2fbd",
              "version_minor": 0,
              "version_major": 2
            },
            "text/plain": [
              "VBox(children=(Label(value=' 0.43MB of 0.43MB uploaded (0.00MB deduped)\\r'), FloatProgress(value=1.0, max=1.0)…"
            ]
          },
          "metadata": {}
        },
        {
          "output_type": "display_data",
          "data": {
            "text/html": [
              "Find user logs for this run at: <code>/content/wandb/run-20210915_130215-3dvtqg43/logs/debug.log</code>"
            ],
            "text/plain": [
              "<IPython.core.display.HTML object>"
            ]
          },
          "metadata": {}
        },
        {
          "output_type": "display_data",
          "data": {
            "text/html": [
              "Find internal logs for this run at: <code>/content/wandb/run-20210915_130215-3dvtqg43/logs/debug-internal.log</code>"
            ],
            "text/plain": [
              "<IPython.core.display.HTML object>"
            ]
          },
          "metadata": {}
        },
        {
          "output_type": "display_data",
          "data": {
            "text/html": [
              "Synced 5 W&B file(s), 0 media file(s), 3 artifact file(s) and 1 other file(s)"
            ],
            "text/plain": [
              "<IPython.core.display.HTML object>"
            ]
          },
          "metadata": {}
        },
        {
          "output_type": "display_data",
          "data": {
            "text/html": [
              "\n",
              "                    <br/>Synced <strong style=\"color:#cdcd00\">cosmic-silence-27</strong>: <a href=\"https://wandb.ai/arjunashok/irm-notebook/runs/3dvtqg43\" target=\"_blank\">https://wandb.ai/arjunashok/irm-notebook/runs/3dvtqg43</a><br/>\n",
              "                "
            ],
            "text/plain": [
              "<IPython.core.display.HTML object>"
            ]
          },
          "metadata": {}
        },
        {
          "output_type": "display_data",
          "data": {
            "text/html": [
              "...Successfully finished last run (ID:3dvtqg43). Initializing new run:<br/><br/>"
            ],
            "text/plain": [
              "<IPython.core.display.HTML object>"
            ]
          },
          "metadata": {}
        },
        {
          "output_type": "display_data",
          "data": {
            "text/html": [
              "\n",
              "                Tracking run with wandb version 0.12.1<br/>\n",
              "                Syncing run <strong style=\"color:#cdcd00\">sage-dragon-28</strong> to <a href=\"https://wandb.ai\" target=\"_blank\">Weights & Biases</a> <a href=\"https://docs.wandb.com/integrations/jupyter.html\" target=\"_blank\">(Documentation)</a>.<br/>\n",
              "                Project page: <a href=\"https://wandb.ai/arjunashok/irm-notebook\" target=\"_blank\">https://wandb.ai/arjunashok/irm-notebook</a><br/>\n",
              "                Run page: <a href=\"https://wandb.ai/arjunashok/irm-notebook/runs/c6epzm59\" target=\"_blank\">https://wandb.ai/arjunashok/irm-notebook/runs/c6epzm59</a><br/>\n",
              "                Run data is saved locally in <code>/content/wandb/run-20210915_130655-c6epzm59</code><br/><br/>\n",
              "            "
            ],
            "text/plain": [
              "<IPython.core.display.HTML object>"
            ]
          },
          "metadata": {}
        },
        {
          "output_type": "stream",
          "name": "stdout",
          "text": [
            "Colored MNIST dataset already exists\n",
            "Colored MNIST dataset already exists\n",
            "Colored MNIST dataset already exists\n"
          ]
        },
        {
          "output_type": "error",
          "ename": "RuntimeError",
          "evalue": "ignored",
          "traceback": [
            "\u001b[0;31m---------------------------------------------------------------------------\u001b[0m",
            "\u001b[0;31mRuntimeError\u001b[0m                              Traceback (most recent call last)",
            "\u001b[0;32m<ipython-input-41-c05538176e15>\u001b[0m in \u001b[0;36m<module>\u001b[0;34m()\u001b[0m\n\u001b[1;32m      2\u001b[0m \u001b[0;34m\u001b[0m\u001b[0m\n\u001b[1;32m      3\u001b[0m \u001b[0;31m# train_and_test_erm()\u001b[0m\u001b[0;34m\u001b[0m\u001b[0;34m\u001b[0m\u001b[0;34m\u001b[0m\u001b[0m\n\u001b[0;32m----> 4\u001b[0;31m \u001b[0mtrain_and_test_irm\u001b[0m\u001b[0;34m(\u001b[0m\u001b[0;34m)\u001b[0m\u001b[0;34m\u001b[0m\u001b[0;34m\u001b[0m\u001b[0m\n\u001b[0m",
            "\u001b[0;32m<ipython-input-28-ff2a67026351>\u001b[0m in \u001b[0;36mtrain_and_test_irm\u001b[0;34m()\u001b[0m\n\u001b[1;32m     82\u001b[0m     batch_size=1000, shuffle=True, **kwargs)\n\u001b[1;32m     83\u001b[0m \u001b[0;34m\u001b[0m\u001b[0m\n\u001b[0;32m---> 84\u001b[0;31m   \u001b[0mmodel\u001b[0m \u001b[0;34m=\u001b[0m \u001b[0mConvNet\u001b[0m\u001b[0;34m(\u001b[0m\u001b[0;34m)\u001b[0m\u001b[0;34m.\u001b[0m\u001b[0mto\u001b[0m\u001b[0;34m(\u001b[0m\u001b[0mdevice\u001b[0m\u001b[0;34m)\u001b[0m\u001b[0;34m\u001b[0m\u001b[0;34m\u001b[0m\u001b[0m\n\u001b[0m\u001b[1;32m     85\u001b[0m   \u001b[0moptimizer\u001b[0m \u001b[0;34m=\u001b[0m \u001b[0moptim\u001b[0m\u001b[0;34m.\u001b[0m\u001b[0mAdam\u001b[0m\u001b[0;34m(\u001b[0m\u001b[0mmodel\u001b[0m\u001b[0;34m.\u001b[0m\u001b[0mparameters\u001b[0m\u001b[0;34m(\u001b[0m\u001b[0;34m)\u001b[0m\u001b[0;34m,\u001b[0m \u001b[0mlr\u001b[0m\u001b[0;34m=\u001b[0m\u001b[0margs\u001b[0m\u001b[0;34m.\u001b[0m\u001b[0mlr\u001b[0m\u001b[0;34m)\u001b[0m\u001b[0;34m\u001b[0m\u001b[0;34m\u001b[0m\u001b[0m\n\u001b[1;32m     86\u001b[0m \u001b[0;34m\u001b[0m\u001b[0m\n",
            "\u001b[0;32m/usr/local/lib/python3.7/dist-packages/torch/nn/modules/module.py\u001b[0m in \u001b[0;36mto\u001b[0;34m(self, *args, **kwargs)\u001b[0m\n\u001b[1;32m    850\u001b[0m             \u001b[0;32mreturn\u001b[0m \u001b[0mt\u001b[0m\u001b[0;34m.\u001b[0m\u001b[0mto\u001b[0m\u001b[0;34m(\u001b[0m\u001b[0mdevice\u001b[0m\u001b[0;34m,\u001b[0m \u001b[0mdtype\u001b[0m \u001b[0;32mif\u001b[0m \u001b[0mt\u001b[0m\u001b[0;34m.\u001b[0m\u001b[0mis_floating_point\u001b[0m\u001b[0;34m(\u001b[0m\u001b[0;34m)\u001b[0m \u001b[0;32mor\u001b[0m \u001b[0mt\u001b[0m\u001b[0;34m.\u001b[0m\u001b[0mis_complex\u001b[0m\u001b[0;34m(\u001b[0m\u001b[0;34m)\u001b[0m \u001b[0;32melse\u001b[0m \u001b[0;32mNone\u001b[0m\u001b[0;34m,\u001b[0m \u001b[0mnon_blocking\u001b[0m\u001b[0;34m)\u001b[0m\u001b[0;34m\u001b[0m\u001b[0;34m\u001b[0m\u001b[0m\n\u001b[1;32m    851\u001b[0m \u001b[0;34m\u001b[0m\u001b[0m\n\u001b[0;32m--> 852\u001b[0;31m         \u001b[0;32mreturn\u001b[0m \u001b[0mself\u001b[0m\u001b[0;34m.\u001b[0m\u001b[0m_apply\u001b[0m\u001b[0;34m(\u001b[0m\u001b[0mconvert\u001b[0m\u001b[0;34m)\u001b[0m\u001b[0;34m\u001b[0m\u001b[0;34m\u001b[0m\u001b[0m\n\u001b[0m\u001b[1;32m    853\u001b[0m \u001b[0;34m\u001b[0m\u001b[0m\n\u001b[1;32m    854\u001b[0m     def register_backward_hook(\n",
            "\u001b[0;32m/usr/local/lib/python3.7/dist-packages/torch/nn/modules/module.py\u001b[0m in \u001b[0;36m_apply\u001b[0;34m(self, fn)\u001b[0m\n\u001b[1;32m    528\u001b[0m     \u001b[0;32mdef\u001b[0m \u001b[0m_apply\u001b[0m\u001b[0;34m(\u001b[0m\u001b[0mself\u001b[0m\u001b[0;34m,\u001b[0m \u001b[0mfn\u001b[0m\u001b[0;34m)\u001b[0m\u001b[0;34m:\u001b[0m\u001b[0;34m\u001b[0m\u001b[0;34m\u001b[0m\u001b[0m\n\u001b[1;32m    529\u001b[0m         \u001b[0;32mfor\u001b[0m \u001b[0mmodule\u001b[0m \u001b[0;32min\u001b[0m \u001b[0mself\u001b[0m\u001b[0;34m.\u001b[0m\u001b[0mchildren\u001b[0m\u001b[0;34m(\u001b[0m\u001b[0;34m)\u001b[0m\u001b[0;34m:\u001b[0m\u001b[0;34m\u001b[0m\u001b[0;34m\u001b[0m\u001b[0m\n\u001b[0;32m--> 530\u001b[0;31m             \u001b[0mmodule\u001b[0m\u001b[0;34m.\u001b[0m\u001b[0m_apply\u001b[0m\u001b[0;34m(\u001b[0m\u001b[0mfn\u001b[0m\u001b[0;34m)\u001b[0m\u001b[0;34m\u001b[0m\u001b[0;34m\u001b[0m\u001b[0m\n\u001b[0m\u001b[1;32m    531\u001b[0m \u001b[0;34m\u001b[0m\u001b[0m\n\u001b[1;32m    532\u001b[0m         \u001b[0;32mdef\u001b[0m \u001b[0mcompute_should_use_set_data\u001b[0m\u001b[0;34m(\u001b[0m\u001b[0mtensor\u001b[0m\u001b[0;34m,\u001b[0m \u001b[0mtensor_applied\u001b[0m\u001b[0;34m)\u001b[0m\u001b[0;34m:\u001b[0m\u001b[0;34m\u001b[0m\u001b[0;34m\u001b[0m\u001b[0m\n",
            "\u001b[0;32m/usr/local/lib/python3.7/dist-packages/torch/nn/modules/module.py\u001b[0m in \u001b[0;36m_apply\u001b[0;34m(self, fn)\u001b[0m\n\u001b[1;32m    550\u001b[0m                 \u001b[0;31m# `with torch.no_grad():`\u001b[0m\u001b[0;34m\u001b[0m\u001b[0;34m\u001b[0m\u001b[0;34m\u001b[0m\u001b[0m\n\u001b[1;32m    551\u001b[0m                 \u001b[0;32mwith\u001b[0m \u001b[0mtorch\u001b[0m\u001b[0;34m.\u001b[0m\u001b[0mno_grad\u001b[0m\u001b[0;34m(\u001b[0m\u001b[0;34m)\u001b[0m\u001b[0;34m:\u001b[0m\u001b[0;34m\u001b[0m\u001b[0;34m\u001b[0m\u001b[0m\n\u001b[0;32m--> 552\u001b[0;31m                     \u001b[0mparam_applied\u001b[0m \u001b[0;34m=\u001b[0m \u001b[0mfn\u001b[0m\u001b[0;34m(\u001b[0m\u001b[0mparam\u001b[0m\u001b[0;34m)\u001b[0m\u001b[0;34m\u001b[0m\u001b[0;34m\u001b[0m\u001b[0m\n\u001b[0m\u001b[1;32m    553\u001b[0m                 \u001b[0mshould_use_set_data\u001b[0m \u001b[0;34m=\u001b[0m \u001b[0mcompute_should_use_set_data\u001b[0m\u001b[0;34m(\u001b[0m\u001b[0mparam\u001b[0m\u001b[0;34m,\u001b[0m \u001b[0mparam_applied\u001b[0m\u001b[0;34m)\u001b[0m\u001b[0;34m\u001b[0m\u001b[0;34m\u001b[0m\u001b[0m\n\u001b[1;32m    554\u001b[0m                 \u001b[0;32mif\u001b[0m \u001b[0mshould_use_set_data\u001b[0m\u001b[0;34m:\u001b[0m\u001b[0;34m\u001b[0m\u001b[0;34m\u001b[0m\u001b[0m\n",
            "\u001b[0;32m/usr/local/lib/python3.7/dist-packages/torch/nn/modules/module.py\u001b[0m in \u001b[0;36mconvert\u001b[0;34m(t)\u001b[0m\n\u001b[1;32m    848\u001b[0m                 return t.to(device, dtype if t.is_floating_point() or t.is_complex() else None,\n\u001b[1;32m    849\u001b[0m                             non_blocking, memory_format=convert_to_format)\n\u001b[0;32m--> 850\u001b[0;31m             \u001b[0;32mreturn\u001b[0m \u001b[0mt\u001b[0m\u001b[0;34m.\u001b[0m\u001b[0mto\u001b[0m\u001b[0;34m(\u001b[0m\u001b[0mdevice\u001b[0m\u001b[0;34m,\u001b[0m \u001b[0mdtype\u001b[0m \u001b[0;32mif\u001b[0m \u001b[0mt\u001b[0m\u001b[0;34m.\u001b[0m\u001b[0mis_floating_point\u001b[0m\u001b[0;34m(\u001b[0m\u001b[0;34m)\u001b[0m \u001b[0;32mor\u001b[0m \u001b[0mt\u001b[0m\u001b[0;34m.\u001b[0m\u001b[0mis_complex\u001b[0m\u001b[0;34m(\u001b[0m\u001b[0;34m)\u001b[0m \u001b[0;32melse\u001b[0m \u001b[0;32mNone\u001b[0m\u001b[0;34m,\u001b[0m \u001b[0mnon_blocking\u001b[0m\u001b[0;34m)\u001b[0m\u001b[0;34m\u001b[0m\u001b[0;34m\u001b[0m\u001b[0m\n\u001b[0m\u001b[1;32m    851\u001b[0m \u001b[0;34m\u001b[0m\u001b[0m\n\u001b[1;32m    852\u001b[0m         \u001b[0;32mreturn\u001b[0m \u001b[0mself\u001b[0m\u001b[0;34m.\u001b[0m\u001b[0m_apply\u001b[0m\u001b[0;34m(\u001b[0m\u001b[0mconvert\u001b[0m\u001b[0;34m)\u001b[0m\u001b[0;34m\u001b[0m\u001b[0;34m\u001b[0m\u001b[0m\n",
            "\u001b[0;31mRuntimeError\u001b[0m: CUDA error: unknown error\nCUDA kernel errors might be asynchronously reported at some other API call,so the stacktrace below might be incorrect.\nFor debugging consider passing CUDA_LAUNCH_BLOCKING=1."
          ]
        }
      ]
    },
    {
      "cell_type": "code",
      "metadata": {
        "colab": {
          "base_uri": "https://localhost:8080/",
          "height": 1000,
          "referenced_widgets": [
            "f635414bed3b408e8c62be7b9e04b4c1",
            "eaafa163ac504739ae3d70b2e641bf9d",
            "5b5f241f79434d028a1c0d04608b6eaa",
            "862fe77b603644f486a198767d718e50",
            "5dca90b787ce4f1989b937c8410ba98c",
            "24924c4110834743b73030849f31c4d9",
            "91036b4b4645424bb3b6b6d03182dcb3",
            "cb54edfc06814aac8dc790cde7b0135f",
            "1101c46da9e1466ca29007e744596084",
            "527e4e7e9b744a7b83672816d1d7c22d",
            "eeb525052d2141a590c2235ccad22a3b",
            "4525f726dc07422185b1f1e629240266",
            "b44fae64bf564aa6b67b2403e7fdb87b",
            "f5f8d6b20fac4a34b8a11c2c8bf07e63",
            "6b770d6231aa4b50a6018765a291790d",
            "63eabd93958a46f1b2c3b713d01d4b07"
          ]
        },
        "id": "nHjQGfRcPMwN",
        "outputId": "7deff41c-bea3-4d68-b5d0-6c01c958fdfb"
      },
      "source": [
        "args.cges = False\n",
        "\n",
        "train_and_test_erm()\n",
        "train_and_test_irm()"
      ],
      "execution_count": null,
      "outputs": [
        {
          "output_type": "display_data",
          "data": {
            "text/html": [
              "Finishing last run (ID:2ukd9k5g) before initializing another..."
            ],
            "text/plain": [
              "<IPython.core.display.HTML object>"
            ]
          },
          "metadata": {}
        },
        {
          "output_type": "display_data",
          "data": {
            "text/html": [
              "<br/>Waiting for W&B process to finish, PID 14139<br/>Program ended successfully."
            ],
            "text/plain": [
              "<IPython.core.display.HTML object>"
            ]
          },
          "metadata": {}
        },
        {
          "output_type": "display_data",
          "data": {
            "application/vnd.jupyter.widget-view+json": {
              "model_id": "f635414bed3b408e8c62be7b9e04b4c1",
              "version_minor": 0,
              "version_major": 2
            },
            "text/plain": [
              "VBox(children=(Label(value=' 0.00MB of 0.00MB uploaded (0.00MB deduped)\\r'), FloatProgress(value=1.0, max=1.0)…"
            ]
          },
          "metadata": {}
        },
        {
          "output_type": "display_data",
          "data": {
            "text/html": [
              "Find user logs for this run at: <code>/content/wandb/run-20210915_111329-2ukd9k5g/logs/debug.log</code>"
            ],
            "text/plain": [
              "<IPython.core.display.HTML object>"
            ]
          },
          "metadata": {}
        },
        {
          "output_type": "display_data",
          "data": {
            "text/html": [
              "Find internal logs for this run at: <code>/content/wandb/run-20210915_111329-2ukd9k5g/logs/debug-internal.log</code>"
            ],
            "text/plain": [
              "<IPython.core.display.HTML object>"
            ]
          },
          "metadata": {}
        },
        {
          "output_type": "display_data",
          "data": {
            "text/html": [
              "<h3>Run summary:</h3><br/><style>\n",
              "    table.wandb td:nth-child(1) { padding: 0 10px; text-align: right }\n",
              "    </style><table class=\"wandb\">\n",
              "<tr><td>train1_set/loss</td><td>0.64013</td></tr><tr><td>train1_set/acc</td><td>61.455</td></tr><tr><td>train2_set/loss</td><td>0.63886</td></tr><tr><td>train2_set/acc</td><td>60.23</td></tr><tr><td>test_set/loss</td><td>0.70003</td></tr><tr><td>test_set/acc</td><td>59.76</td></tr><tr><td>test_set/best_acc</td><td>61.445</td></tr><tr><td>_runtime</td><td>2051</td></tr><tr><td>_timestamp</td><td>1631706467</td></tr><tr><td>_step</td><td>99</td></tr></table>"
            ],
            "text/plain": [
              "<IPython.core.display.HTML object>"
            ]
          },
          "metadata": {}
        },
        {
          "output_type": "display_data",
          "data": {
            "text/html": [
              "<h3>Run history:</h3><br/><style>\n",
              "    table.wandb td:nth-child(1) { padding: 0 10px; text-align: right }\n",
              "    </style><table class=\"wandb\">\n",
              "<tr><td>train1_set/loss</td><td>▆▂▁▂▆▅▆▇▇▇▇▇███▇██▇████▇▇▇█▇▇▇▇▇▇▇▇▇▇▇▇▇</td></tr><tr><td>train1_set/acc</td><td>████▃▄▃▂▂▂▂▂▁▁▁▂▂▂▂▂▁▁▁▂▂▂▁▁▂▂▂▂▂▂▂▂▂▂▂▂</td></tr><tr><td>train2_set/loss</td><td>▆▁▁▂▅▅▆▇▇▇▇▇███▇█████████▇█▇█▇▇███████▇█</td></tr><tr><td>train2_set/acc</td><td>████▃▃▃▂▂▂▂▂▁▁▂▂▂▂▂▂▁▁▁▁▁▁▁▁▁▂▂▁▂▂▂▂▁▂▂▂</td></tr><tr><td>test_set/loss</td><td>▂█▇█▄▄▃▃▂▂▂▂▂▂▂▂▁▁▁▁▁▁▁▁▁▁▁▂▁▁▁▁▁▁▁▁▁▁▁▁</td></tr><tr><td>test_set/acc</td><td>▁▁▁▁▆▆▆▆▆▆▆▆▆▆▆▆▆▇▇▇▇███████████████████</td></tr><tr><td>test_set/best_acc</td><td>▁▁▁▁▆▆▆▆▆▆▆▆▆▆▆▆▆▇▇▇▇▇▇█████████████████</td></tr><tr><td>_runtime</td><td>▁▁▁▁▂▂▂▂▂▂▃▃▃▃▃▄▄▄▄▄▅▅▅▅▅▅▆▆▆▆▆▆▇▇▇▇▇███</td></tr><tr><td>_timestamp</td><td>▁▁▁▁▂▂▂▂▂▂▃▃▃▃▃▄▄▄▄▄▅▅▅▅▅▅▆▆▆▆▆▆▇▇▇▇▇███</td></tr><tr><td>_step</td><td>▁▁▁▁▂▂▂▂▂▃▃▃▃▃▃▄▄▄▄▄▅▅▅▅▅▅▆▆▆▆▆▇▇▇▇▇▇███</td></tr></table><br/>"
            ],
            "text/plain": [
              "<IPython.core.display.HTML object>"
            ]
          },
          "metadata": {}
        },
        {
          "output_type": "display_data",
          "data": {
            "text/html": [
              "Synced 5 W&B file(s), 0 media file(s), 0 artifact file(s) and 0 other file(s)"
            ],
            "text/plain": [
              "<IPython.core.display.HTML object>"
            ]
          },
          "metadata": {}
        },
        {
          "output_type": "display_data",
          "data": {
            "text/html": [
              "\n",
              "                    <br/>Synced <strong style=\"color:#cdcd00\">morning-star-22</strong>: <a href=\"https://wandb.ai/arjunashok/irm-notebook/runs/2ukd9k5g\" target=\"_blank\">https://wandb.ai/arjunashok/irm-notebook/runs/2ukd9k5g</a><br/>\n",
              "                "
            ],
            "text/plain": [
              "<IPython.core.display.HTML object>"
            ]
          },
          "metadata": {}
        },
        {
          "output_type": "display_data",
          "data": {
            "text/html": [
              "...Successfully finished last run (ID:2ukd9k5g). Initializing new run:<br/><br/>"
            ],
            "text/plain": [
              "<IPython.core.display.HTML object>"
            ]
          },
          "metadata": {}
        },
        {
          "output_type": "display_data",
          "data": {
            "text/html": [
              "\n",
              "                Tracking run with wandb version 0.12.1<br/>\n",
              "                Syncing run <strong style=\"color:#cdcd00\">playful-mountain-23</strong> to <a href=\"https://wandb.ai\" target=\"_blank\">Weights & Biases</a> <a href=\"https://docs.wandb.com/integrations/jupyter.html\" target=\"_blank\">(Documentation)</a>.<br/>\n",
              "                Project page: <a href=\"https://wandb.ai/arjunashok/irm-notebook\" target=\"_blank\">https://wandb.ai/arjunashok/irm-notebook</a><br/>\n",
              "                Run page: <a href=\"https://wandb.ai/arjunashok/irm-notebook/runs/1ijmqzdp\" target=\"_blank\">https://wandb.ai/arjunashok/irm-notebook/runs/1ijmqzdp</a><br/>\n",
              "                Run data is saved locally in <code>/content/wandb/run-20210915_114747-1ijmqzdp</code><br/><br/>\n",
              "            "
            ],
            "text/plain": [
              "<IPython.core.display.HTML object>"
            ]
          },
          "metadata": {}
        },
        {
          "output_type": "stream",
          "name": "stdout",
          "text": [
            "Colored MNIST dataset already exists\n"
          ]
        },
        {
          "output_type": "stream",
          "name": "stderr",
          "text": [
            "/usr/local/lib/python3.7/dist-packages/torch/utils/data/dataloader.py:481: UserWarning: This DataLoader will create 8 worker processes in total. Our suggested max number of worker in current system is 2, which is smaller than what this DataLoader is going to create. Please be aware that excessive worker creation might get DataLoader running slow or even freeze, lower the worker number to avoid potential slowness/freeze if necessary.\n",
            "  cpuset_checked))\n"
          ]
        },
        {
          "output_type": "stream",
          "name": "stdout",
          "text": [
            "Colored MNIST dataset already exists\n",
            "Train Epoch: 1 [39936/40000 (100%)]\tLoss: 0.322680\n",
            "Performance on train_set: Average loss: 0.3826, Accuracy: 34025/40000 (85.06%)\n",
            "Performance on test_set: Average loss: 1.4425, Accuracy: 2141/20000 (10.71%)\n",
            "Train Epoch: 2 [39936/40000 (100%)]\tLoss: 0.439531\n",
            "Performance on train_set: Average loss: 0.3750, Accuracy: 33927/40000 (84.82%)\n",
            "Performance on test_set: Average loss: 1.5129, Accuracy: 2587/20000 (12.94%)\n",
            "Train Epoch: 3 [39936/40000 (100%)]\tLoss: 0.291205\n",
            "Performance on train_set: Average loss: 0.3640, Accuracy: 34007/40000 (85.02%)\n",
            "Performance on test_set: Average loss: 1.5381, Accuracy: 2231/20000 (11.15%)\n",
            "Train Epoch: 4 [39936/40000 (100%)]\tLoss: 0.401787\n",
            "Performance on train_set: Average loss: 0.3595, Accuracy: 34036/40000 (85.09%)\n",
            "Performance on test_set: Average loss: 1.4937, Accuracy: 2167/20000 (10.84%)\n",
            "Train Epoch: 5 [39936/40000 (100%)]\tLoss: 0.505517\n",
            "Performance on train_set: Average loss: 0.3615, Accuracy: 33998/40000 (85.00%)\n",
            "Performance on test_set: Average loss: 1.5635, Accuracy: 2472/20000 (12.36%)\n",
            "Train Epoch: 6 [39936/40000 (100%)]\tLoss: 0.331414\n",
            "Performance on train_set: Average loss: 0.3552, Accuracy: 34055/40000 (85.14%)\n",
            "Performance on test_set: Average loss: 1.4498, Accuracy: 2477/20000 (12.38%)\n",
            "Train Epoch: 7 [39936/40000 (100%)]\tLoss: 0.261675\n",
            "Performance on train_set: Average loss: 0.3601, Accuracy: 33844/40000 (84.61%)\n",
            "Performance on test_set: Average loss: 1.4034, Accuracy: 3756/20000 (18.78%)\n",
            "Train Epoch: 8 [39936/40000 (100%)]\tLoss: 0.296292\n",
            "Performance on train_set: Average loss: 0.3480, Accuracy: 34104/40000 (85.26%)\n",
            "Performance on test_set: Average loss: 1.4761, Accuracy: 2326/20000 (11.63%)\n",
            "Train Epoch: 9 [39936/40000 (100%)]\tLoss: 0.345972\n",
            "Performance on train_set: Average loss: 0.3467, Accuracy: 34169/40000 (85.42%)\n",
            "Performance on test_set: Average loss: 1.3485, Accuracy: 2901/20000 (14.51%)\n",
            "Train Epoch: 10 [39936/40000 (100%)]\tLoss: 0.318535\n",
            "Performance on train_set: Average loss: 0.3422, Accuracy: 34193/40000 (85.48%)\n",
            "Performance on test_set: Average loss: 1.5215, Accuracy: 2836/20000 (14.18%)\n",
            "Train Epoch: 11 [39936/40000 (100%)]\tLoss: 0.272781\n",
            "Performance on train_set: Average loss: 0.3418, Accuracy: 34217/40000 (85.54%)\n",
            "Performance on test_set: Average loss: 1.4595, Accuracy: 3586/20000 (17.93%)\n",
            "Train Epoch: 12 [39936/40000 (100%)]\tLoss: 0.426549\n",
            "Performance on train_set: Average loss: 0.3343, Accuracy: 34214/40000 (85.53%)\n",
            "Performance on test_set: Average loss: 1.5685, Accuracy: 2482/20000 (12.41%)\n",
            "Train Epoch: 13 [39936/40000 (100%)]\tLoss: 0.301961\n",
            "Performance on train_set: Average loss: 0.3298, Accuracy: 34369/40000 (85.92%)\n",
            "Performance on test_set: Average loss: 1.4637, Accuracy: 3093/20000 (15.46%)\n",
            "Train Epoch: 14 [39936/40000 (100%)]\tLoss: 0.271531\n",
            "Performance on train_set: Average loss: 0.3261, Accuracy: 34506/40000 (86.27%)\n",
            "Performance on test_set: Average loss: 1.4703, Accuracy: 3283/20000 (16.41%)\n",
            "Train Epoch: 15 [39936/40000 (100%)]\tLoss: 0.268861\n",
            "Performance on train_set: Average loss: 0.3261, Accuracy: 34499/40000 (86.25%)\n",
            "Performance on test_set: Average loss: 1.4650, Accuracy: 4238/20000 (21.19%)\n",
            "Train Epoch: 16 [39936/40000 (100%)]\tLoss: 0.258406\n",
            "Performance on train_set: Average loss: 0.3239, Accuracy: 34504/40000 (86.26%)\n",
            "Performance on test_set: Average loss: 1.5177, Accuracy: 4554/20000 (22.77%)\n",
            "Train Epoch: 17 [39936/40000 (100%)]\tLoss: 0.353244\n",
            "Performance on train_set: Average loss: 0.3136, Accuracy: 34678/40000 (86.69%)\n",
            "Performance on test_set: Average loss: 1.5713, Accuracy: 3799/20000 (19.00%)\n",
            "Train Epoch: 18 [39936/40000 (100%)]\tLoss: 0.253468\n",
            "Performance on train_set: Average loss: 0.3080, Accuracy: 34689/40000 (86.72%)\n",
            "Performance on test_set: Average loss: 1.6372, Accuracy: 3344/20000 (16.72%)\n",
            "Train Epoch: 19 [39936/40000 (100%)]\tLoss: 0.259008\n",
            "Performance on train_set: Average loss: 0.3010, Accuracy: 34936/40000 (87.34%)\n",
            "Performance on test_set: Average loss: 1.5809, Accuracy: 4394/20000 (21.97%)\n",
            "Train Epoch: 20 [39936/40000 (100%)]\tLoss: 0.295726\n",
            "Performance on train_set: Average loss: 0.2964, Accuracy: 35047/40000 (87.62%)\n",
            "Performance on test_set: Average loss: 1.6411, Accuracy: 3997/20000 (19.98%)\n",
            "Train Epoch: 21 [39936/40000 (100%)]\tLoss: 0.352680\n",
            "Performance on train_set: Average loss: 0.2919, Accuracy: 35105/40000 (87.76%)\n",
            "Performance on test_set: Average loss: 1.5444, Accuracy: 5252/20000 (26.26%)\n",
            "Train Epoch: 22 [39936/40000 (100%)]\tLoss: 0.286025\n",
            "Performance on train_set: Average loss: 0.3011, Accuracy: 34820/40000 (87.05%)\n",
            "Performance on test_set: Average loss: 1.6007, Accuracy: 5761/20000 (28.80%)\n",
            "Train Epoch: 23 [39936/40000 (100%)]\tLoss: 0.270315\n",
            "Performance on train_set: Average loss: 0.2751, Accuracy: 35534/40000 (88.83%)\n",
            "Performance on test_set: Average loss: 1.6372, Accuracy: 4523/20000 (22.61%)\n",
            "Train Epoch: 24 [39936/40000 (100%)]\tLoss: 0.295424\n",
            "Performance on train_set: Average loss: 0.2724, Accuracy: 35553/40000 (88.88%)\n",
            "Performance on test_set: Average loss: 1.6150, Accuracy: 5474/20000 (27.37%)\n",
            "Train Epoch: 25 [39936/40000 (100%)]\tLoss: 0.258511\n",
            "Performance on train_set: Average loss: 0.2621, Accuracy: 35825/40000 (89.56%)\n",
            "Performance on test_set: Average loss: 1.7226, Accuracy: 4861/20000 (24.30%)\n",
            "Train Epoch: 26 [39936/40000 (100%)]\tLoss: 0.189664\n",
            "Performance on train_set: Average loss: 0.2596, Accuracy: 35846/40000 (89.61%)\n",
            "Performance on test_set: Average loss: 1.7065, Accuracy: 5175/20000 (25.88%)\n",
            "Train Epoch: 27 [39936/40000 (100%)]\tLoss: 0.234135\n",
            "Performance on train_set: Average loss: 0.2506, Accuracy: 35891/40000 (89.73%)\n",
            "Performance on test_set: Average loss: 1.8311, Accuracy: 4710/20000 (23.55%)\n",
            "Train Epoch: 28 [39936/40000 (100%)]\tLoss: 0.322780\n",
            "Performance on train_set: Average loss: 0.2457, Accuracy: 36031/40000 (90.08%)\n",
            "Performance on test_set: Average loss: 1.7677, Accuracy: 5341/20000 (26.70%)\n",
            "Train Epoch: 29 [39936/40000 (100%)]\tLoss: 0.201607\n",
            "Performance on train_set: Average loss: 0.2460, Accuracy: 35962/40000 (89.91%)\n",
            "Performance on test_set: Average loss: 1.9809, Accuracy: 4663/20000 (23.32%)\n",
            "Train Epoch: 30 [39936/40000 (100%)]\tLoss: 0.375478\n",
            "Performance on train_set: Average loss: 0.2315, Accuracy: 36404/40000 (91.01%)\n",
            "Performance on test_set: Average loss: 1.7899, Accuracy: 5659/20000 (28.30%)\n",
            "Train Epoch: 31 [39936/40000 (100%)]\tLoss: 0.389017\n",
            "Performance on train_set: Average loss: 0.2319, Accuracy: 36342/40000 (90.86%)\n",
            "Performance on test_set: Average loss: 1.8855, Accuracy: 5593/20000 (27.96%)\n",
            "Train Epoch: 32 [39936/40000 (100%)]\tLoss: 0.285501\n",
            "Performance on train_set: Average loss: 0.2260, Accuracy: 36464/40000 (91.16%)\n",
            "Performance on test_set: Average loss: 1.8954, Accuracy: 5436/20000 (27.18%)\n",
            "Train Epoch: 33 [39936/40000 (100%)]\tLoss: 0.223678\n",
            "Performance on train_set: Average loss: 0.2174, Accuracy: 36628/40000 (91.57%)\n",
            "Performance on test_set: Average loss: 1.8873, Accuracy: 5818/20000 (29.09%)\n",
            "Train Epoch: 34 [39936/40000 (100%)]\tLoss: 0.182291\n",
            "Performance on train_set: Average loss: 0.2090, Accuracy: 36676/40000 (91.69%)\n",
            "Performance on test_set: Average loss: 2.0353, Accuracy: 5198/20000 (25.99%)\n",
            "Train Epoch: 35 [39936/40000 (100%)]\tLoss: 0.239403\n",
            "Performance on train_set: Average loss: 0.2015, Accuracy: 36864/40000 (92.16%)\n",
            "Performance on test_set: Average loss: 2.0732, Accuracy: 5347/20000 (26.73%)\n",
            "Train Epoch: 36 [39936/40000 (100%)]\tLoss: 0.152308\n",
            "Performance on train_set: Average loss: 0.2096, Accuracy: 36574/40000 (91.44%)\n",
            "Performance on test_set: Average loss: 2.2535, Accuracy: 5337/20000 (26.68%)\n",
            "Train Epoch: 37 [39936/40000 (100%)]\tLoss: 0.290741\n",
            "Performance on train_set: Average loss: 0.2001, Accuracy: 37007/40000 (92.52%)\n",
            "Performance on test_set: Average loss: 1.8847, Accuracy: 6522/20000 (32.61%)\n",
            "Train Epoch: 38 [39936/40000 (100%)]\tLoss: 0.216052\n",
            "Performance on train_set: Average loss: 0.1867, Accuracy: 37182/40000 (92.95%)\n",
            "Performance on test_set: Average loss: 2.1482, Accuracy: 5605/20000 (28.02%)\n",
            "Train Epoch: 39 [39936/40000 (100%)]\tLoss: 0.142741\n",
            "Performance on train_set: Average loss: 0.1862, Accuracy: 37163/40000 (92.91%)\n",
            "Performance on test_set: Average loss: 2.1336, Accuracy: 5956/20000 (29.78%)\n",
            "Train Epoch: 40 [39936/40000 (100%)]\tLoss: 0.157685\n",
            "Performance on train_set: Average loss: 0.1821, Accuracy: 37140/40000 (92.85%)\n",
            "Performance on test_set: Average loss: 2.2596, Accuracy: 5931/20000 (29.66%)\n",
            "Train Epoch: 41 [39936/40000 (100%)]\tLoss: 0.125233\n",
            "Performance on train_set: Average loss: 0.1724, Accuracy: 37459/40000 (93.65%)\n",
            "Performance on test_set: Average loss: 2.2257, Accuracy: 5970/20000 (29.85%)\n",
            "Train Epoch: 42 [39936/40000 (100%)]\tLoss: 0.129675\n",
            "Performance on train_set: Average loss: 0.1716, Accuracy: 37443/40000 (93.61%)\n",
            "Performance on test_set: Average loss: 2.2407, Accuracy: 6279/20000 (31.39%)\n",
            "Train Epoch: 43 [39936/40000 (100%)]\tLoss: 0.364785\n",
            "Performance on train_set: Average loss: 0.1738, Accuracy: 37317/40000 (93.29%)\n",
            "Performance on test_set: Average loss: 2.4457, Accuracy: 5758/20000 (28.79%)\n",
            "Train Epoch: 44 [39936/40000 (100%)]\tLoss: 0.197187\n",
            "Performance on train_set: Average loss: 0.1562, Accuracy: 37712/40000 (94.28%)\n",
            "Performance on test_set: Average loss: 2.4308, Accuracy: 5942/20000 (29.71%)\n",
            "Train Epoch: 45 [39936/40000 (100%)]\tLoss: 0.214580\n",
            "Performance on train_set: Average loss: 0.1771, Accuracy: 37206/40000 (93.02%)\n",
            "Performance on test_set: Average loss: 2.3238, Accuracy: 6460/20000 (32.30%)\n",
            "Train Epoch: 46 [39936/40000 (100%)]\tLoss: 0.177882\n",
            "Performance on train_set: Average loss: 0.1523, Accuracy: 37688/40000 (94.22%)\n",
            "Performance on test_set: Average loss: 2.5835, Accuracy: 5824/20000 (29.12%)\n",
            "Train Epoch: 47 [39936/40000 (100%)]\tLoss: 0.195408\n",
            "Performance on train_set: Average loss: 0.1569, Accuracy: 37663/40000 (94.16%)\n",
            "Performance on test_set: Average loss: 2.2933, Accuracy: 6806/20000 (34.03%)\n",
            "Train Epoch: 48 [39936/40000 (100%)]\tLoss: 0.153169\n",
            "Performance on train_set: Average loss: 0.1444, Accuracy: 37903/40000 (94.76%)\n",
            "Performance on test_set: Average loss: 2.5026, Accuracy: 6478/20000 (32.39%)\n",
            "Train Epoch: 49 [39936/40000 (100%)]\tLoss: 0.176403\n",
            "Performance on train_set: Average loss: 0.1394, Accuracy: 37869/40000 (94.67%)\n",
            "Performance on test_set: Average loss: 2.8377, Accuracy: 5629/20000 (28.14%)\n",
            "Train Epoch: 50 [39936/40000 (100%)]\tLoss: 0.112262\n",
            "Performance on train_set: Average loss: 0.1335, Accuracy: 37912/40000 (94.78%)\n",
            "Performance on test_set: Average loss: 3.0495, Accuracy: 5305/20000 (26.52%)\n",
            "Train Epoch: 51 [39936/40000 (100%)]\tLoss: 0.153622\n",
            "Performance on train_set: Average loss: 0.1219, Accuracy: 38349/40000 (95.87%)\n",
            "Performance on test_set: Average loss: 2.7517, Accuracy: 6054/20000 (30.27%)\n",
            "Train Epoch: 52 [39936/40000 (100%)]\tLoss: 0.132257\n",
            "Performance on train_set: Average loss: 0.1197, Accuracy: 38290/40000 (95.72%)\n",
            "Performance on test_set: Average loss: 2.9831, Accuracy: 5574/20000 (27.87%)\n",
            "Train Epoch: 53 [39936/40000 (100%)]\tLoss: 0.161639\n",
            "Performance on train_set: Average loss: 0.1165, Accuracy: 38488/40000 (96.22%)\n",
            "Performance on test_set: Average loss: 2.7466, Accuracy: 6548/20000 (32.74%)\n",
            "Train Epoch: 54 [39936/40000 (100%)]\tLoss: 0.110265\n",
            "Performance on train_set: Average loss: 0.1158, Accuracy: 38451/40000 (96.13%)\n",
            "Performance on test_set: Average loss: 2.7429, Accuracy: 6464/20000 (32.32%)\n",
            "Train Epoch: 55 [39936/40000 (100%)]\tLoss: 0.160547\n",
            "Performance on train_set: Average loss: 0.1098, Accuracy: 38488/40000 (96.22%)\n",
            "Performance on test_set: Average loss: 3.0731, Accuracy: 6311/20000 (31.55%)\n",
            "Train Epoch: 56 [39936/40000 (100%)]\tLoss: 0.203189\n",
            "Performance on train_set: Average loss: 0.1030, Accuracy: 38663/40000 (96.66%)\n",
            "Performance on test_set: Average loss: 3.0642, Accuracy: 6221/20000 (31.11%)\n",
            "Train Epoch: 57 [39936/40000 (100%)]\tLoss: 0.170148\n",
            "Performance on train_set: Average loss: 0.1116, Accuracy: 38368/40000 (95.92%)\n",
            "Performance on test_set: Average loss: 3.1537, Accuracy: 6403/20000 (32.02%)\n",
            "Train Epoch: 58 [39936/40000 (100%)]\tLoss: 0.204981\n",
            "Performance on train_set: Average loss: 0.0919, Accuracy: 38843/40000 (97.11%)\n",
            "Performance on test_set: Average loss: 3.2063, Accuracy: 6257/20000 (31.29%)\n",
            "Train Epoch: 59 [39936/40000 (100%)]\tLoss: 0.130252\n",
            "Performance on train_set: Average loss: 0.0911, Accuracy: 38825/40000 (97.06%)\n",
            "Performance on test_set: Average loss: 3.3416, Accuracy: 6063/20000 (30.32%)\n",
            "Train Epoch: 60 [39936/40000 (100%)]\tLoss: 0.151903\n",
            "Performance on train_set: Average loss: 0.0967, Accuracy: 38729/40000 (96.82%)\n",
            "Performance on test_set: Average loss: 3.1664, Accuracy: 6607/20000 (33.03%)\n",
            "Train Epoch: 61 [39936/40000 (100%)]\tLoss: 0.077517\n",
            "Performance on train_set: Average loss: 0.0857, Accuracy: 38785/40000 (96.96%)\n",
            "Performance on test_set: Average loss: 3.6316, Accuracy: 6083/20000 (30.41%)\n",
            "Train Epoch: 62 [39936/40000 (100%)]\tLoss: 0.079466\n",
            "Performance on train_set: Average loss: 0.0835, Accuracy: 38901/40000 (97.25%)\n",
            "Performance on test_set: Average loss: 3.5657, Accuracy: 6261/20000 (31.30%)\n",
            "Train Epoch: 63 [39936/40000 (100%)]\tLoss: 0.097104\n",
            "Performance on train_set: Average loss: 0.0774, Accuracy: 39034/40000 (97.58%)\n",
            "Performance on test_set: Average loss: 3.6612, Accuracy: 6389/20000 (31.95%)\n",
            "Train Epoch: 64 [39936/40000 (100%)]\tLoss: 0.090288\n",
            "Performance on train_set: Average loss: 0.0790, Accuracy: 38939/40000 (97.35%)\n",
            "Performance on test_set: Average loss: 3.8046, Accuracy: 6065/20000 (30.32%)\n",
            "Train Epoch: 65 [39936/40000 (100%)]\tLoss: 0.136688\n",
            "Performance on train_set: Average loss: 0.0738, Accuracy: 39048/40000 (97.62%)\n",
            "Performance on test_set: Average loss: 3.7656, Accuracy: 6332/20000 (31.66%)\n",
            "Train Epoch: 66 [39936/40000 (100%)]\tLoss: 0.105158\n",
            "Performance on train_set: Average loss: 0.0755, Accuracy: 38964/40000 (97.41%)\n",
            "Performance on test_set: Average loss: 4.3554, Accuracy: 5454/20000 (27.27%)\n",
            "Train Epoch: 67 [39936/40000 (100%)]\tLoss: 0.057534\n",
            "Performance on train_set: Average loss: 0.0707, Accuracy: 39064/40000 (97.66%)\n",
            "Performance on test_set: Average loss: 4.1123, Accuracy: 6100/20000 (30.50%)\n",
            "Train Epoch: 68 [39936/40000 (100%)]\tLoss: 0.052415\n",
            "Performance on train_set: Average loss: 0.0684, Accuracy: 39059/40000 (97.65%)\n",
            "Performance on test_set: Average loss: 4.3462, Accuracy: 5992/20000 (29.96%)\n",
            "Train Epoch: 69 [39936/40000 (100%)]\tLoss: 0.050084\n",
            "Performance on train_set: Average loss: 0.0594, Accuracy: 39340/40000 (98.35%)\n",
            "Performance on test_set: Average loss: 3.9776, Accuracy: 6358/20000 (31.79%)\n",
            "Train Epoch: 70 [39936/40000 (100%)]\tLoss: 0.110280\n",
            "Performance on train_set: Average loss: 0.0620, Accuracy: 39241/40000 (98.10%)\n",
            "Performance on test_set: Average loss: 4.1903, Accuracy: 6544/20000 (32.72%)\n",
            "Train Epoch: 71 [39936/40000 (100%)]\tLoss: 0.081013\n",
            "Performance on train_set: Average loss: 0.0532, Accuracy: 39417/40000 (98.54%)\n",
            "Performance on test_set: Average loss: 4.2638, Accuracy: 6311/20000 (31.55%)\n",
            "Train Epoch: 72 [39936/40000 (100%)]\tLoss: 0.084300\n",
            "Performance on train_set: Average loss: 0.0547, Accuracy: 39323/40000 (98.31%)\n",
            "Performance on test_set: Average loss: 4.4898, Accuracy: 6251/20000 (31.25%)\n",
            "Train Epoch: 73 [39936/40000 (100%)]\tLoss: 0.065374\n",
            "Performance on train_set: Average loss: 0.0616, Accuracy: 39110/40000 (97.78%)\n",
            "Performance on test_set: Average loss: 4.8133, Accuracy: 5988/20000 (29.94%)\n",
            "Train Epoch: 74 [39936/40000 (100%)]\tLoss: 0.146893\n",
            "Performance on train_set: Average loss: 0.0628, Accuracy: 39146/40000 (97.86%)\n",
            "Performance on test_set: Average loss: 4.5130, Accuracy: 6226/20000 (31.13%)\n",
            "Train Epoch: 75 [39936/40000 (100%)]\tLoss: 0.126939\n",
            "Performance on train_set: Average loss: 0.0498, Accuracy: 39336/40000 (98.34%)\n",
            "Performance on test_set: Average loss: 4.9293, Accuracy: 6029/20000 (30.14%)\n",
            "Train Epoch: 76 [39936/40000 (100%)]\tLoss: 0.054886\n",
            "Performance on train_set: Average loss: 0.0468, Accuracy: 39368/40000 (98.42%)\n",
            "Performance on test_set: Average loss: 5.0299, Accuracy: 6030/20000 (30.15%)\n",
            "Train Epoch: 77 [39936/40000 (100%)]\tLoss: 0.038348\n",
            "Performance on train_set: Average loss: 0.0405, Accuracy: 39616/40000 (99.04%)\n",
            "Performance on test_set: Average loss: 4.5513, Accuracy: 6658/20000 (33.29%)\n",
            "Train Epoch: 78 [39936/40000 (100%)]\tLoss: 0.093259\n",
            "Performance on train_set: Average loss: 0.0417, Accuracy: 39510/40000 (98.78%)\n",
            "Performance on test_set: Average loss: 5.1904, Accuracy: 5967/20000 (29.84%)\n",
            "Train Epoch: 79 [39936/40000 (100%)]\tLoss: 0.019588\n",
            "Performance on train_set: Average loss: 0.0497, Accuracy: 39290/40000 (98.22%)\n",
            "Performance on test_set: Average loss: 5.4387, Accuracy: 5759/20000 (28.80%)\n",
            "Train Epoch: 80 [39936/40000 (100%)]\tLoss: 0.051017\n",
            "Performance on train_set: Average loss: 0.0474, Accuracy: 39469/40000 (98.67%)\n",
            "Performance on test_set: Average loss: 4.8456, Accuracy: 6722/20000 (33.61%)\n",
            "Train Epoch: 81 [39936/40000 (100%)]\tLoss: 0.059834\n",
            "Performance on train_set: Average loss: 0.0670, Accuracy: 38873/40000 (97.18%)\n",
            "Performance on test_set: Average loss: 5.1083, Accuracy: 6371/20000 (31.86%)\n",
            "Train Epoch: 82 [39936/40000 (100%)]\tLoss: 0.062556\n",
            "Performance on train_set: Average loss: 0.0348, Accuracy: 39582/40000 (98.95%)\n",
            "Performance on test_set: Average loss: 5.4577, Accuracy: 6046/20000 (30.23%)\n",
            "Train Epoch: 83 [39936/40000 (100%)]\tLoss: 0.044093\n",
            "Performance on train_set: Average loss: 0.0359, Accuracy: 39562/40000 (98.91%)\n",
            "Performance on test_set: Average loss: 5.2973, Accuracy: 6511/20000 (32.55%)\n",
            "Train Epoch: 84 [39936/40000 (100%)]\tLoss: 0.021189\n",
            "Performance on train_set: Average loss: 0.0380, Accuracy: 39498/40000 (98.75%)\n",
            "Performance on test_set: Average loss: 5.6743, Accuracy: 5987/20000 (29.93%)\n",
            "Train Epoch: 85 [39936/40000 (100%)]\tLoss: 0.039782\n",
            "Performance on train_set: Average loss: 0.0297, Accuracy: 39703/40000 (99.26%)\n",
            "Performance on test_set: Average loss: 5.6457, Accuracy: 6217/20000 (31.09%)\n",
            "Train Epoch: 86 [39936/40000 (100%)]\tLoss: 0.047382\n",
            "Performance on train_set: Average loss: 0.0434, Accuracy: 39405/40000 (98.51%)\n",
            "Performance on test_set: Average loss: 5.5942, Accuracy: 6190/20000 (30.95%)\n",
            "Train Epoch: 87 [39936/40000 (100%)]\tLoss: 0.013481\n",
            "Performance on train_set: Average loss: 0.0266, Accuracy: 39770/40000 (99.42%)\n",
            "Performance on test_set: Average loss: 5.5521, Accuracy: 6446/20000 (32.23%)\n",
            "Train Epoch: 88 [39936/40000 (100%)]\tLoss: 0.023393\n",
            "Performance on train_set: Average loss: 0.0340, Accuracy: 39621/40000 (99.05%)\n",
            "Performance on test_set: Average loss: 5.3998, Accuracy: 6951/20000 (34.76%)\n",
            "Train Epoch: 89 [39936/40000 (100%)]\tLoss: 0.035613\n",
            "Performance on train_set: Average loss: 0.0384, Accuracy: 39491/40000 (98.73%)\n",
            "Performance on test_set: Average loss: 6.1146, Accuracy: 5952/20000 (29.76%)\n",
            "Train Epoch: 90 [39936/40000 (100%)]\tLoss: 0.025982\n",
            "Performance on train_set: Average loss: 0.0422, Accuracy: 39391/40000 (98.48%)\n",
            "Performance on test_set: Average loss: 6.0924, Accuracy: 6330/20000 (31.65%)\n",
            "Train Epoch: 91 [39936/40000 (100%)]\tLoss: 0.054739\n",
            "Performance on train_set: Average loss: 0.0248, Accuracy: 39732/40000 (99.33%)\n",
            "Performance on test_set: Average loss: 6.3332, Accuracy: 6127/20000 (30.64%)\n",
            "Train Epoch: 92 [39936/40000 (100%)]\tLoss: 0.021123\n",
            "Performance on train_set: Average loss: 0.0280, Accuracy: 39690/40000 (99.22%)\n",
            "Performance on test_set: Average loss: 6.2915, Accuracy: 6267/20000 (31.34%)\n",
            "Train Epoch: 93 [39936/40000 (100%)]\tLoss: 0.010009\n",
            "Performance on train_set: Average loss: 0.0247, Accuracy: 39739/40000 (99.35%)\n",
            "Performance on test_set: Average loss: 6.0811, Accuracy: 6363/20000 (31.82%)\n",
            "Train Epoch: 94 [39936/40000 (100%)]\tLoss: 0.028543\n",
            "Performance on train_set: Average loss: 0.0221, Accuracy: 39792/40000 (99.48%)\n",
            "Performance on test_set: Average loss: 6.4810, Accuracy: 6188/20000 (30.94%)\n",
            "Train Epoch: 95 [39936/40000 (100%)]\tLoss: 0.019118\n",
            "Performance on train_set: Average loss: 0.0565, Accuracy: 39186/40000 (97.97%)\n",
            "Performance on test_set: Average loss: 5.3500, Accuracy: 7439/20000 (37.20%)\n",
            "Train Epoch: 96 [39936/40000 (100%)]\tLoss: 0.029475\n",
            "Performance on train_set: Average loss: 0.0236, Accuracy: 39762/40000 (99.41%)\n",
            "Performance on test_set: Average loss: 6.0029, Accuracy: 6689/20000 (33.45%)\n",
            "Train Epoch: 97 [39936/40000 (100%)]\tLoss: 0.038728\n",
            "Performance on train_set: Average loss: 0.0268, Accuracy: 39642/40000 (99.11%)\n",
            "Performance on test_set: Average loss: 6.5217, Accuracy: 6273/20000 (31.36%)\n",
            "Train Epoch: 98 [39936/40000 (100%)]\tLoss: 0.037057\n",
            "Performance on train_set: Average loss: 0.0168, Accuracy: 39887/40000 (99.72%)\n",
            "Performance on test_set: Average loss: 6.2596, Accuracy: 6521/20000 (32.60%)\n",
            "Train Epoch: 99 [39936/40000 (100%)]\tLoss: 0.013990\n",
            "Performance on train_set: Average loss: 0.0207, Accuracy: 39780/40000 (99.45%)\n",
            "Performance on test_set: Average loss: 6.7717, Accuracy: 6231/20000 (31.16%)\n"
          ]
        },
        {
          "output_type": "display_data",
          "data": {
            "text/html": [
              "Finishing last run (ID:1ijmqzdp) before initializing another..."
            ],
            "text/plain": [
              "<IPython.core.display.HTML object>"
            ]
          },
          "metadata": {}
        },
        {
          "output_type": "display_data",
          "data": {
            "text/html": [
              "<br/>Waiting for W&B process to finish, PID 17148<br/>Program ended successfully."
            ],
            "text/plain": [
              "<IPython.core.display.HTML object>"
            ]
          },
          "metadata": {}
        },
        {
          "output_type": "display_data",
          "data": {
            "application/vnd.jupyter.widget-view+json": {
              "model_id": "1101c46da9e1466ca29007e744596084",
              "version_minor": 0,
              "version_major": 2
            },
            "text/plain": [
              "VBox(children=(Label(value=' 0.26MB of 0.26MB uploaded (0.00MB deduped)\\r'), FloatProgress(value=1.0, max=1.0)…"
            ]
          },
          "metadata": {}
        },
        {
          "output_type": "display_data",
          "data": {
            "text/html": [
              "Find user logs for this run at: <code>/content/wandb/run-20210915_114747-1ijmqzdp/logs/debug.log</code>"
            ],
            "text/plain": [
              "<IPython.core.display.HTML object>"
            ]
          },
          "metadata": {}
        },
        {
          "output_type": "display_data",
          "data": {
            "text/html": [
              "Find internal logs for this run at: <code>/content/wandb/run-20210915_114747-1ijmqzdp/logs/debug-internal.log</code>"
            ],
            "text/plain": [
              "<IPython.core.display.HTML object>"
            ]
          },
          "metadata": {}
        },
        {
          "output_type": "display_data",
          "data": {
            "text/html": [
              "<h3>Run summary:</h3><br/><style>\n",
              "    table.wandb td:nth-child(1) { padding: 0 10px; text-align: right }\n",
              "    </style><table class=\"wandb\">\n",
              "<tr><td>train/loss</td><td>0.01399</td></tr><tr><td>train_set/loss</td><td>0.02074</td></tr><tr><td>train_set/acc</td><td>99.45</td></tr><tr><td>test_set/loss</td><td>6.77168</td></tr><tr><td>test_set/acc</td><td>31.155</td></tr><tr><td>test_set/best_acc</td><td>37.195</td></tr><tr><td>_runtime</td><td>2455</td></tr><tr><td>_timestamp</td><td>1631708926</td></tr><tr><td>_step</td><td>99</td></tr></table>"
            ],
            "text/plain": [
              "<IPython.core.display.HTML object>"
            ]
          },
          "metadata": {}
        },
        {
          "output_type": "display_data",
          "data": {
            "text/html": [
              "<h3>Run history:</h3><br/><style>\n",
              "    table.wandb td:nth-child(1) { padding: 0 10px; text-align: right }\n",
              "    </style><table class=\"wandb\">\n",
              "<tr><td>train/loss</td><td>▇▆▇▆▆▆▆▅▇▆▄▇█▅▄▅▃█▄▄▄▄▅▅▂▃▃▂▂▂▂▃▂▂▂▁▂▁▁▁</td></tr><tr><td>train_set/loss</td><td>██▇▇▇▇▇▇▆▆▆▅▅▅▅▄▄▄▄▃▃▃▃▂▂▂▂▂▂▂▂▁▂▁▁▁▁▁▁▁</td></tr><tr><td>train_set/acc</td><td>▁▁▁▁▁▁▂▂▂▃▃▃▄▄▄▅▅▅▅▆▆▆▇▇▇▇▇▇█▇██▇███████</td></tr><tr><td>test_set/loss</td><td>▁▁▁▁▁▁▁▁▁▁▁▁▂▂▂▂▂▂▂▂▃▃▃▃▄▄▅▅▅▅▆▆▆▆▆▆▇▇▇█</td></tr><tr><td>test_set/acc</td><td>▁▁▁▁▃▂▅▃▆▄▅▆▆▆▆▆▇▆▆▇▇▇▇▇▇▇▆▇▇▇▇▇▇▇▇█▇▇█▇</td></tr><tr><td>test_set/best_acc</td><td>▁▂▂▃▃▃▄▄▅▆▆▆▆▆▆▇▇▇▇▇▇▇▇▇▇▇▇▇▇▇▇▇▇▇▇▇▇▇██</td></tr><tr><td>_runtime</td><td>▁▁▁▂▂▂▂▂▂▃▃▃▃▃▃▄▄▄▄▄▅▅▅▅▅▅▆▆▆▆▆▆▇▇▇▇▇███</td></tr><tr><td>_timestamp</td><td>▁▁▁▂▂▂▂▂▂▃▃▃▃▃▃▄▄▄▄▄▅▅▅▅▅▅▆▆▆▆▆▆▇▇▇▇▇███</td></tr><tr><td>_step</td><td>▁▁▁▁▂▂▂▂▂▃▃▃▃▃▃▄▄▄▄▄▅▅▅▅▅▅▆▆▆▆▆▇▇▇▇▇▇███</td></tr></table><br/>"
            ],
            "text/plain": [
              "<IPython.core.display.HTML object>"
            ]
          },
          "metadata": {}
        },
        {
          "output_type": "display_data",
          "data": {
            "text/html": [
              "Synced 5 W&B file(s), 0 media file(s), 2 artifact file(s) and 1 other file(s)"
            ],
            "text/plain": [
              "<IPython.core.display.HTML object>"
            ]
          },
          "metadata": {}
        },
        {
          "output_type": "display_data",
          "data": {
            "text/html": [
              "\n",
              "                    <br/>Synced <strong style=\"color:#cdcd00\">playful-mountain-23</strong>: <a href=\"https://wandb.ai/arjunashok/irm-notebook/runs/1ijmqzdp\" target=\"_blank\">https://wandb.ai/arjunashok/irm-notebook/runs/1ijmqzdp</a><br/>\n",
              "                "
            ],
            "text/plain": [
              "<IPython.core.display.HTML object>"
            ]
          },
          "metadata": {}
        },
        {
          "output_type": "display_data",
          "data": {
            "text/html": [
              "...Successfully finished last run (ID:1ijmqzdp). Initializing new run:<br/><br/>"
            ],
            "text/plain": [
              "<IPython.core.display.HTML object>"
            ]
          },
          "metadata": {}
        },
        {
          "output_type": "display_data",
          "data": {
            "text/html": [
              "\n",
              "                Tracking run with wandb version 0.12.1<br/>\n",
              "                Syncing run <strong style=\"color:#cdcd00\">cool-valley-24</strong> to <a href=\"https://wandb.ai\" target=\"_blank\">Weights & Biases</a> <a href=\"https://docs.wandb.com/integrations/jupyter.html\" target=\"_blank\">(Documentation)</a>.<br/>\n",
              "                Project page: <a href=\"https://wandb.ai/arjunashok/irm-notebook\" target=\"_blank\">https://wandb.ai/arjunashok/irm-notebook</a><br/>\n",
              "                Run page: <a href=\"https://wandb.ai/arjunashok/irm-notebook/runs/2xoy3iic\" target=\"_blank\">https://wandb.ai/arjunashok/irm-notebook/runs/2xoy3iic</a><br/>\n",
              "                Run data is saved locally in <code>/content/wandb/run-20210915_122843-2xoy3iic</code><br/><br/>\n",
              "            "
            ],
            "text/plain": [
              "<IPython.core.display.HTML object>"
            ]
          },
          "metadata": {}
        },
        {
          "output_type": "stream",
          "name": "stdout",
          "text": [
            "Colored MNIST dataset already exists\n",
            "Colored MNIST dataset already exists\n",
            "Colored MNIST dataset already exists\n",
            "Namespace(cges=False, chvar=0.2, lamb=0.0006, lr=0.0001, mu=0.8)\n",
            "Using penalty multiplier 1.0\n",
            "Performance on train1_set: Average loss: 0.6018, Accuracy: 16017/20000 (80.08%)\n",
            "Performance on train2_set: Average loss: 0.5650, Accuracy: 18024/20000 (90.12%)\n",
            "Performance on test_set: Average loss: 0.8617, Accuracy: 2054/20000 (10.27%)\n",
            "Using penalty multiplier 3.0314331330207964\n",
            "Performance on train1_set: Average loss: 0.5362, Accuracy: 16017/20000 (80.08%)\n",
            "Performance on train2_set: Average loss: 0.4163, Accuracy: 18024/20000 (90.12%)\n",
            "Performance on test_set: Average loss: 1.3696, Accuracy: 2054/20000 (10.27%)\n",
            "Using penalty multiplier 5.799546134795289\n",
            "Performance on train1_set: Average loss: 0.5149, Accuracy: 16016/20000 (80.08%)\n",
            "Performance on train2_set: Average loss: 0.3567, Accuracy: 18022/20000 (90.11%)\n",
            "Performance on test_set: Average loss: 1.6209, Accuracy: 2055/20000 (10.28%)\n",
            "Using penalty multiplier 9.18958683997628\n",
            "Performance on train1_set: Average loss: 0.5125, Accuracy: 16017/20000 (80.08%)\n",
            "Performance on train2_set: Average loss: 0.3493, Accuracy: 18023/20000 (90.11%)\n",
            "Performance on test_set: Average loss: 1.6544, Accuracy: 2054/20000 (10.27%)\n",
            "Using penalty multiplier 13.132639022018838\n",
            "Performance on train1_set: Average loss: 0.5048, Accuracy: 16017/20000 (80.08%)\n",
            "Performance on train2_set: Average loss: 0.3463, Accuracy: 18024/20000 (90.12%)\n",
            "Performance on test_set: Average loss: 1.6145, Accuracy: 2054/20000 (10.27%)\n",
            "Using penalty multiplier 17.580936309501134\n",
            "Performance on train1_set: Average loss: 0.4997, Accuracy: 16017/20000 (80.08%)\n",
            "Performance on train2_set: Average loss: 0.3529, Accuracy: 18024/20000 (90.12%)\n",
            "Performance on test_set: Average loss: 1.5318, Accuracy: 2054/20000 (10.27%)\n",
            "Using penalty multiplier 22.498670948012276\n",
            "Performance on train1_set: Average loss: 0.5073, Accuracy: 16017/20000 (80.08%)\n",
            "Performance on train2_set: Average loss: 0.3449, Accuracy: 18024/20000 (90.12%)\n",
            "Performance on test_set: Average loss: 1.6524, Accuracy: 2054/20000 (10.27%)\n",
            "Using penalty multiplier 27.85761802547598\n",
            "Performance on train1_set: Average loss: 0.5236, Accuracy: 16016/20000 (80.08%)\n",
            "Performance on train2_set: Average loss: 0.3771, Accuracy: 18024/20000 (90.12%)\n",
            "Performance on test_set: Average loss: 1.5654, Accuracy: 2057/20000 (10.29%)\n",
            "Using penalty multiplier 33.63473536961897\n",
            "Performance on train1_set: Average loss: 0.5558, Accuracy: 15649/20000 (78.25%)\n",
            "Performance on train2_set: Average loss: 0.4470, Accuracy: 17412/20000 (87.06%)\n",
            "Performance on test_set: Average loss: 1.3375, Accuracy: 3473/20000 (17.36%)\n",
            "Using penalty multiplier 39.810717055349734\n",
            "Performance on train1_set: Average loss: 0.5719, Accuracy: 14507/20000 (72.53%)\n",
            "Performance on train2_set: Average loss: 0.4857, Accuracy: 15576/20000 (77.88%)\n",
            "Performance on test_set: Average loss: 1.1965, Accuracy: 6488/20000 (32.44%)\n",
            "Using penalty multiplier 46.369060464010914\n",
            "Performance on train1_set: Average loss: 0.6099, Accuracy: 12713/20000 (63.56%)\n",
            "Performance on train2_set: Average loss: 0.5411, Accuracy: 13121/20000 (65.61%)\n",
            "Performance on test_set: Average loss: 1.1150, Accuracy: 8969/20000 (44.84%)\n",
            "Using penalty multiplier 53.29543283815009\n",
            "Performance on train1_set: Average loss: 0.5860, Accuracy: 13578/20000 (67.89%)\n",
            "Performance on train2_set: Average loss: 0.5177, Accuracy: 14262/20000 (71.31%)\n",
            "Performance on test_set: Average loss: 1.0896, Accuracy: 8133/20000 (40.66%)\n",
            "Using penalty multiplier 60.57722346046887\n",
            "Performance on train1_set: Average loss: 0.5962, Accuracy: 13122/20000 (65.61%)\n",
            "Performance on train2_set: Average loss: 0.5324, Accuracy: 13671/20000 (68.36%)\n",
            "Performance on test_set: Average loss: 1.0693, Accuracy: 8645/20000 (43.23%)\n",
            "Using penalty multiplier 68.20321656073682\n",
            "Performance on train1_set: Average loss: 0.6048, Accuracy: 12778/20000 (63.89%)\n",
            "Performance on train2_set: Average loss: 0.5483, Accuracy: 13198/20000 (65.99%)\n",
            "Performance on test_set: Average loss: 1.0288, Accuracy: 8929/20000 (44.65%)\n",
            "Using penalty multiplier 76.16334587981113\n",
            "Performance on train1_set: Average loss: 0.6081, Accuracy: 12647/20000 (63.23%)\n",
            "Performance on train2_set: Average loss: 0.5562, Accuracy: 13023/20000 (65.11%)\n",
            "Performance on test_set: Average loss: 1.0006, Accuracy: 9005/20000 (45.02%)\n",
            "Using penalty multiplier 84.44850628946526\n",
            "Performance on train1_set: Average loss: 0.6067, Accuracy: 12673/20000 (63.37%)\n",
            "Performance on train2_set: Average loss: 0.5589, Accuracy: 13082/20000 (65.41%)\n",
            "Performance on test_set: Average loss: 0.9719, Accuracy: 8971/20000 (44.85%)\n",
            "Using penalty multiplier 93.05040638761433\n",
            "Performance on train1_set: Average loss: 0.6313, Accuracy: 11790/20000 (58.95%)\n",
            "Performance on train2_set: Average loss: 0.5906, Accuracy: 11952/20000 (59.76%)\n",
            "Performance on test_set: Average loss: 0.9479, Accuracy: 9405/20000 (47.02%)\n",
            "Using penalty multiplier 101.96145121984944\n",
            "Performance on train1_set: Average loss: 0.6279, Accuracy: 11989/20000 (59.95%)\n",
            "Performance on train2_set: Average loss: 0.5908, Accuracy: 12148/20000 (60.74%)\n",
            "Performance on test_set: Average loss: 0.9204, Accuracy: 9324/20000 (46.62%)\n",
            "Using penalty multiplier 111.17464760577515\n",
            "Performance on train1_set: Average loss: 0.6142, Accuracy: 12507/20000 (62.53%)\n",
            "Performance on train2_set: Average loss: 0.5770, Accuracy: 12836/20000 (64.18%)\n",
            "Performance on test_set: Average loss: 0.9085, Accuracy: 9060/20000 (45.30%)\n",
            "Using penalty multiplier 120.6835267309033\n",
            "Performance on train1_set: Average loss: 0.6432, Accuracy: 11505/20000 (57.52%)\n",
            "Performance on train2_set: Average loss: 0.6132, Accuracy: 11640/20000 (58.20%)\n",
            "Performance on test_set: Average loss: 0.8874, Accuracy: 9507/20000 (47.53%)\n",
            "Using penalty multiplier 130.48208013457565\n",
            "Performance on train1_set: Average loss: 0.6250, Accuracy: 12217/20000 (61.09%)\n",
            "Performance on train2_set: Average loss: 0.5955, Accuracy: 12488/20000 (62.44%)\n",
            "Performance on test_set: Average loss: 0.8649, Accuracy: 9230/20000 (46.15%)\n",
            "Using penalty multiplier 140.56470623764733\n",
            "Performance on train1_set: Average loss: 0.6359, Accuracy: 11824/20000 (59.12%)\n",
            "Performance on train2_set: Average loss: 0.6093, Accuracy: 12014/20000 (60.07%)\n",
            "Performance on test_set: Average loss: 0.8558, Accuracy: 9381/20000 (46.91%)\n",
            "Using penalty multiplier 150.92616526686473\n",
            "Performance on train1_set: Average loss: 0.6297, Accuracy: 12081/20000 (60.41%)\n",
            "Performance on train2_set: Average loss: 0.6031, Accuracy: 12321/20000 (61.60%)\n",
            "Performance on test_set: Average loss: 0.8499, Accuracy: 9275/20000 (46.38%)\n",
            "Using penalty multiplier 161.56154094425278\n",
            "Performance on train1_set: Average loss: 0.6296, Accuracy: 12111/20000 (60.55%)\n",
            "Performance on train2_set: Average loss: 0.6041, Accuracy: 12363/20000 (61.81%)\n",
            "Performance on test_set: Average loss: 0.8440, Accuracy: 9267/20000 (46.34%)\n",
            "Using penalty multiplier 172.4662076826519\n",
            "Performance on train1_set: Average loss: 0.6392, Accuracy: 11830/20000 (59.15%)\n",
            "Performance on train2_set: Average loss: 0.6163, Accuracy: 12049/20000 (60.24%)\n",
            "Performance on test_set: Average loss: 0.8374, Accuracy: 9375/20000 (46.88%)\n",
            "Using penalty multiplier 183.63580230447005\n",
            "Performance on train1_set: Average loss: 0.6364, Accuracy: 11989/20000 (59.95%)\n",
            "Performance on train2_set: Average loss: 0.6137, Accuracy: 12230/20000 (61.15%)\n",
            "Performance on test_set: Average loss: 0.8354, Accuracy: 9317/20000 (46.59%)\n",
            "Using penalty multiplier 195.06619950773612\n",
            "Performance on train1_set: Average loss: 0.6388, Accuracy: 12003/20000 (60.02%)\n",
            "Performance on train2_set: Average loss: 0.6179, Accuracy: 12254/20000 (61.27%)\n",
            "Performance on test_set: Average loss: 0.8273, Accuracy: 9311/20000 (46.55%)\n",
            "Using penalty multiplier 206.75349046081027\n",
            "Performance on train1_set: Average loss: 0.6336, Accuracy: 12242/20000 (61.21%)\n",
            "Performance on train2_set: Average loss: 0.6137, Accuracy: 12498/20000 (62.49%)\n",
            "Performance on test_set: Average loss: 0.8158, Accuracy: 9169/20000 (45.84%)\n",
            "Using penalty multiplier 218.69396402795164\n",
            "Performance on train1_set: Average loss: 0.6332, Accuracy: 12264/20000 (61.32%)\n",
            "Performance on train2_set: Average loss: 0.6143, Accuracy: 12518/20000 (62.59%)\n",
            "Performance on test_set: Average loss: 0.8088, Accuracy: 9155/20000 (45.77%)\n",
            "Using penalty multiplier 230.88409022178243\n",
            "Performance on train1_set: Average loss: 0.6296, Accuracy: 12374/20000 (61.87%)\n",
            "Performance on train2_set: Average loss: 0.6107, Accuracy: 12625/20000 (63.12%)\n",
            "Performance on test_set: Average loss: 0.8031, Accuracy: 9102/20000 (45.51%)\n",
            "Using penalty multiplier 243.3205055522631\n",
            "Performance on train1_set: Average loss: 0.6567, Accuracy: 11548/20000 (57.74%)\n",
            "Performance on train2_set: Average loss: 0.6455, Accuracy: 11685/20000 (58.42%)\n",
            "Performance on test_set: Average loss: 0.7744, Accuracy: 9492/20000 (47.46%)\n",
            "Using penalty multiplier 256.00000000000006\n",
            "Performance on train1_set: Average loss: 0.6581, Accuracy: 11475/20000 (57.38%)\n",
            "Performance on train2_set: Average loss: 0.6480, Accuracy: 11595/20000 (57.98%)\n",
            "Performance on test_set: Average loss: 0.7659, Accuracy: 9520/20000 (47.60%)\n",
            "Using penalty multiplier 268.91950538814353\n",
            "Performance on train1_set: Average loss: 0.6508, Accuracy: 11704/20000 (58.52%)\n",
            "Performance on train2_set: Average loss: 0.6396, Accuracy: 11886/20000 (59.43%)\n",
            "Performance on test_set: Average loss: 0.7663, Accuracy: 9429/20000 (47.15%)\n",
            "Using penalty multiplier 282.07608496446403\n",
            "Performance on train1_set: Average loss: 0.6459, Accuracy: 11743/20000 (58.72%)\n",
            "Performance on train2_set: Average loss: 0.6317, Accuracy: 11941/20000 (59.70%)\n",
            "Performance on test_set: Average loss: 0.7837, Accuracy: 9407/20000 (47.03%)\n",
            "Using penalty multiplier 295.46692403542755\n",
            "Performance on train1_set: Average loss: 0.6488, Accuracy: 11661/20000 (58.30%)\n",
            "Performance on train2_set: Average loss: 0.6351, Accuracy: 11844/20000 (59.22%)\n",
            "Performance on test_set: Average loss: 0.7854, Accuracy: 9445/20000 (47.23%)\n",
            "Using penalty multiplier 309.0893215187353\n",
            "Performance on train1_set: Average loss: 0.6436, Accuracy: 11844/20000 (59.22%)\n",
            "Performance on train2_set: Average loss: 0.6296, Accuracy: 12100/20000 (60.50%)\n",
            "Performance on test_set: Average loss: 0.7829, Accuracy: 9368/20000 (46.84%)\n",
            "Using penalty multiplier 322.94068230101703\n",
            "Performance on train1_set: Average loss: 0.6476, Accuracy: 11824/20000 (59.12%)\n",
            "Performance on train2_set: Average loss: 0.6358, Accuracy: 12054/20000 (60.27%)\n",
            "Performance on test_set: Average loss: 0.7726, Accuracy: 9416/20000 (47.08%)\n",
            "Using penalty multiplier 337.01851030405794\n",
            "Performance on train1_set: Average loss: 0.6403, Accuracy: 12099/20000 (60.49%)\n",
            "Performance on train2_set: Average loss: 0.6276, Accuracy: 12328/20000 (61.64%)\n",
            "Performance on test_set: Average loss: 0.7721, Accuracy: 9359/20000 (46.80%)\n",
            "Using penalty multiplier 351.32040217679275\n",
            "Performance on train1_set: Average loss: 0.6418, Accuracy: 12037/20000 (60.19%)\n",
            "Performance on train2_set: Average loss: 0.6289, Accuracy: 12277/20000 (61.38%)\n",
            "Performance on test_set: Average loss: 0.7770, Accuracy: 9389/20000 (46.95%)\n",
            "Using penalty multiplier 365.8440415418612\n",
            "Performance on train1_set: Average loss: 0.6435, Accuracy: 12046/20000 (60.23%)\n",
            "Performance on train2_set: Average loss: 0.6321, Accuracy: 12271/20000 (61.35%)\n",
            "Performance on test_set: Average loss: 0.7702, Accuracy: 9459/20000 (47.30%)\n",
            "Using penalty multiplier 380.58719373521416\n",
            "Performance on train1_set: Average loss: 0.6472, Accuracy: 12038/20000 (60.19%)\n",
            "Performance on train2_set: Average loss: 0.6388, Accuracy: 12224/20000 (61.12%)\n",
            "Performance on test_set: Average loss: 0.7532, Accuracy: 9733/20000 (48.66%)\n",
            "Using penalty multiplier 395.54770098542724\n",
            "Performance on train1_set: Average loss: 0.6364, Accuracy: 12430/20000 (62.15%)\n",
            "Performance on train2_set: Average loss: 0.6275, Accuracy: 12561/20000 (62.80%)\n",
            "Performance on test_set: Average loss: 0.7423, Accuracy: 10221/20000 (51.10%)\n",
            "Using penalty multiplier 410.72347798629295\n",
            "Performance on train1_set: Average loss: 0.6492, Accuracy: 12030/20000 (60.15%)\n",
            "Performance on train2_set: Average loss: 0.6440, Accuracy: 12092/20000 (60.46%)\n",
            "Performance on test_set: Average loss: 0.7285, Accuracy: 10613/20000 (53.06%)\n",
            "Using penalty multiplier 426.11250782213915\n",
            "Performance on train1_set: Average loss: 0.6511, Accuracy: 11869/20000 (59.34%)\n",
            "Performance on train2_set: Average loss: 0.6443, Accuracy: 11929/20000 (59.65%)\n",
            "Performance on test_set: Average loss: 0.7421, Accuracy: 10445/20000 (52.23%)\n",
            "Using penalty multiplier 441.71283821033535\n",
            "Performance on train1_set: Average loss: 0.6339, Accuracy: 12235/20000 (61.17%)\n",
            "Performance on train2_set: Average loss: 0.6214, Accuracy: 12398/20000 (61.99%)\n",
            "Performance on test_set: Average loss: 0.7661, Accuracy: 10099/20000 (50.49%)\n",
            "Using penalty multiplier 457.5225780297462\n",
            "Performance on train1_set: Average loss: 0.6404, Accuracy: 12119/20000 (60.59%)\n",
            "Performance on train2_set: Average loss: 0.6315, Accuracy: 12201/20000 (61.01%)\n",
            "Performance on test_set: Average loss: 0.7476, Accuracy: 10552/20000 (52.76%)\n",
            "Using penalty multiplier 473.5398941075845\n",
            "Performance on train1_set: Average loss: 0.6550, Accuracy: 11889/20000 (59.45%)\n",
            "Performance on train2_set: Average loss: 0.6527, Accuracy: 11809/20000 (59.05%)\n",
            "Performance on test_set: Average loss: 0.7133, Accuracy: 11302/20000 (56.51%)\n",
            "Using penalty multiplier 489.76300824030386\n",
            "Performance on train1_set: Average loss: 0.6477, Accuracy: 12005/20000 (60.02%)\n",
            "Performance on train2_set: Average loss: 0.6432, Accuracy: 11938/20000 (59.69%)\n",
            "Performance on test_set: Average loss: 0.7200, Accuracy: 11255/20000 (56.27%)\n",
            "Using penalty multiplier 506.19019442693155\n",
            "Performance on train1_set: Average loss: 0.6426, Accuracy: 11994/20000 (59.97%)\n",
            "Performance on train2_set: Average loss: 0.6350, Accuracy: 11979/20000 (59.90%)\n",
            "Performance on test_set: Average loss: 0.7375, Accuracy: 11044/20000 (55.22%)\n",
            "Using penalty multiplier 522.8197762956368\n",
            "Performance on train1_set: Average loss: 0.6412, Accuracy: 11903/20000 (59.52%)\n",
            "Performance on train2_set: Average loss: 0.6313, Accuracy: 11900/20000 (59.50%)\n",
            "Performance on test_set: Average loss: 0.7545, Accuracy: 10834/20000 (54.17%)\n",
            "Using penalty multiplier 539.6501247064195\n",
            "Performance on train1_set: Average loss: 0.6430, Accuracy: 11818/20000 (59.09%)\n",
            "Performance on train2_set: Average loss: 0.6325, Accuracy: 11801/20000 (59.01%)\n",
            "Performance on test_set: Average loss: 0.7630, Accuracy: 10766/20000 (53.83%)\n",
            "Using penalty multiplier 556.6796555146271\n",
            "Performance on train1_set: Average loss: 0.6439, Accuracy: 11874/20000 (59.37%)\n",
            "Performance on train2_set: Average loss: 0.6357, Accuracy: 11813/20000 (59.06%)\n",
            "Performance on test_set: Average loss: 0.7474, Accuracy: 11074/20000 (55.37%)\n",
            "Using penalty multiplier 573.9068274816058\n",
            "Performance on train1_set: Average loss: 0.6532, Accuracy: 11803/20000 (59.02%)\n",
            "Performance on train2_set: Average loss: 0.6506, Accuracy: 11631/20000 (58.16%)\n",
            "Performance on test_set: Average loss: 0.7155, Accuracy: 11599/20000 (57.99%)\n",
            "Using penalty multiplier 591.3301403201962\n",
            "Performance on train1_set: Average loss: 0.6564, Accuracy: 11676/20000 (58.38%)\n",
            "Performance on train2_set: Average loss: 0.6542, Accuracy: 11497/20000 (57.48%)\n",
            "Performance on test_set: Average loss: 0.7161, Accuracy: 11623/20000 (58.12%)\n",
            "Using penalty multiplier 608.9481328640206\n",
            "Performance on train1_set: Average loss: 0.6466, Accuracy: 11784/20000 (58.92%)\n",
            "Performance on train2_set: Average loss: 0.6396, Accuracy: 11662/20000 (58.31%)\n",
            "Performance on test_set: Average loss: 0.7417, Accuracy: 11337/20000 (56.69%)\n",
            "Using penalty multiplier 626.7593813505995\n",
            "Performance on train1_set: Average loss: 0.6520, Accuracy: 11768/20000 (58.84%)\n",
            "Performance on train2_set: Average loss: 0.6487, Accuracy: 11570/20000 (57.85%)\n",
            "Performance on test_set: Average loss: 0.7207, Accuracy: 11719/20000 (58.59%)\n",
            "Using penalty multiplier 644.7624978093015\n",
            "Performance on train1_set: Average loss: 0.6470, Accuracy: 11924/20000 (59.62%)\n",
            "Performance on train2_set: Average loss: 0.6442, Accuracy: 11747/20000 (58.73%)\n",
            "Performance on test_set: Average loss: 0.7123, Accuracy: 11807/20000 (59.03%)\n",
            "Using penalty multiplier 662.9561285459907\n",
            "Performance on train1_set: Average loss: 0.6392, Accuracy: 12047/20000 (60.23%)\n",
            "Performance on train2_set: Average loss: 0.6327, Accuracy: 11914/20000 (59.57%)\n",
            "Performance on test_set: Average loss: 0.7310, Accuracy: 11604/20000 (58.02%)\n",
            "Using penalty multiplier 681.338952716991\n",
            "Performance on train1_set: Average loss: 0.6386, Accuracy: 11970/20000 (59.85%)\n",
            "Performance on train2_set: Average loss: 0.6297, Accuracy: 11854/20000 (59.27%)\n",
            "Performance on test_set: Average loss: 0.7500, Accuracy: 11491/20000 (57.45%)\n",
            "Using penalty multiplier 699.9096809856741\n",
            "Performance on train1_set: Average loss: 0.6330, Accuracy: 12070/20000 (60.35%)\n",
            "Performance on train2_set: Average loss: 0.6216, Accuracy: 11987/20000 (59.94%)\n",
            "Performance on test_set: Average loss: 0.7643, Accuracy: 11305/20000 (56.52%)\n",
            "Using penalty multiplier 718.6670542555771\n",
            "Performance on train1_set: Average loss: 0.6375, Accuracy: 12072/20000 (60.36%)\n",
            "Performance on train2_set: Average loss: 0.6307, Accuracy: 11954/20000 (59.77%)\n",
            "Performance on test_set: Average loss: 0.7361, Accuracy: 11595/20000 (57.98%)\n",
            "Using penalty multiplier 737.6098424745011\n",
            "Performance on train1_set: Average loss: 0.6356, Accuracy: 12191/20000 (60.95%)\n",
            "Performance on train2_set: Average loss: 0.6291, Accuracy: 12000/20000 (60.00%)\n",
            "Performance on test_set: Average loss: 0.7336, Accuracy: 11608/20000 (58.04%)\n",
            "Using penalty multiplier 756.7368435045273\n",
            "Performance on train1_set: Average loss: 0.6323, Accuracy: 12184/20000 (60.92%)\n",
            "Performance on train2_set: Average loss: 0.6233, Accuracy: 12065/20000 (60.33%)\n",
            "Performance on test_set: Average loss: 0.7517, Accuracy: 11454/20000 (57.27%)\n",
            "Using penalty multiplier 776.0468820533241\n",
            "Performance on train1_set: Average loss: 0.6478, Accuracy: 12001/20000 (60.01%)\n",
            "Performance on train2_set: Average loss: 0.6474, Accuracy: 11726/20000 (58.63%)\n",
            "Performance on test_set: Average loss: 0.7056, Accuracy: 12014/20000 (60.07%)\n",
            "Using penalty multiplier 795.5388086625085\n",
            "Performance on train1_set: Average loss: 0.6445, Accuracy: 12092/20000 (60.46%)\n",
            "Performance on train2_set: Average loss: 0.6439, Accuracy: 11816/20000 (59.08%)\n",
            "Performance on test_set: Average loss: 0.7025, Accuracy: 11992/20000 (59.96%)\n",
            "Using penalty multiplier 815.2114987491829\n",
            "Performance on train1_set: Average loss: 0.6390, Accuracy: 12137/20000 (60.69%)\n",
            "Performance on train2_set: Average loss: 0.6345, Accuracy: 11908/20000 (59.54%)\n",
            "Performance on test_set: Average loss: 0.7275, Accuracy: 11760/20000 (58.80%)\n",
            "Using penalty multiplier 835.063851697083\n",
            "Performance on train1_set: Average loss: 0.6303, Accuracy: 12271/20000 (61.35%)\n",
            "Performance on train2_set: Average loss: 0.6217, Accuracy: 12068/20000 (60.34%)\n",
            "Performance on test_set: Average loss: 0.7494, Accuracy: 11534/20000 (57.67%)\n",
            "Using penalty multiplier 855.0947899940655\n",
            "Performance on train1_set: Average loss: 0.6314, Accuracy: 12115/20000 (60.58%)\n",
            "Performance on train2_set: Average loss: 0.6209, Accuracy: 11992/20000 (59.96%)\n",
            "Performance on test_set: Average loss: 0.7664, Accuracy: 11474/20000 (57.37%)\n",
            "Using penalty multiplier 875.3032584129203\n",
            "Performance on train1_set: Average loss: 0.6412, Accuracy: 12104/20000 (60.52%)\n",
            "Performance on train2_set: Average loss: 0.6388, Accuracy: 11819/20000 (59.09%)\n",
            "Performance on test_set: Average loss: 0.7150, Accuracy: 11933/20000 (59.66%)\n",
            "Using penalty multiplier 895.6882232327338\n",
            "Performance on train1_set: Average loss: 0.6432, Accuracy: 12089/20000 (60.45%)\n",
            "Performance on train2_set: Average loss: 0.6422, Accuracy: 11777/20000 (58.88%)\n",
            "Performance on test_set: Average loss: 0.7090, Accuracy: 11987/20000 (59.94%)\n",
            "Using penalty multiplier 916.2486714982427\n",
            "Performance on train1_set: Average loss: 0.6338, Accuracy: 12237/20000 (61.19%)\n",
            "Performance on train2_set: Average loss: 0.6288, Accuracy: 12013/20000 (60.06%)\n",
            "Performance on test_set: Average loss: 0.7286, Accuracy: 11777/20000 (58.88%)\n",
            "Using penalty multiplier 936.9836103148119\n",
            "Performance on train1_set: Average loss: 0.6256, Accuracy: 12363/20000 (61.81%)\n",
            "Performance on train2_set: Average loss: 0.6162, Accuracy: 12194/20000 (60.97%)\n",
            "Performance on test_set: Average loss: 0.7529, Accuracy: 11470/20000 (57.35%)\n",
            "Using penalty multiplier 957.8920661768511\n",
            "Performance on train1_set: Average loss: 0.6215, Accuracy: 12526/20000 (62.63%)\n",
            "Performance on train2_set: Average loss: 0.6124, Accuracy: 12377/20000 (61.88%)\n",
            "Performance on test_set: Average loss: 0.7468, Accuracy: 11435/20000 (57.17%)\n",
            "Using penalty multiplier 978.9730843276457\n",
            "Performance on train1_set: Average loss: 0.6321, Accuracy: 12386/20000 (61.93%)\n",
            "Performance on train2_set: Average loss: 0.6281, Accuracy: 12167/20000 (60.84%)\n",
            "Performance on test_set: Average loss: 0.7222, Accuracy: 11709/20000 (58.55%)\n",
            "Using penalty multiplier 1000.2257281487254\n",
            "Performance on train1_set: Average loss: 0.6273, Accuracy: 12506/20000 (62.53%)\n",
            "Performance on train2_set: Average loss: 0.6213, Accuracy: 12317/20000 (61.59%)\n",
            "Performance on test_set: Average loss: 0.7323, Accuracy: 11579/20000 (57.90%)\n",
            "Using penalty multiplier 1021.6490785770319\n",
            "Performance on train1_set: Average loss: 0.6292, Accuracy: 12409/20000 (62.05%)\n",
            "Performance on train2_set: Average loss: 0.6228, Accuracy: 12195/20000 (60.98%)\n",
            "Performance on test_set: Average loss: 0.7357, Accuracy: 11639/20000 (58.20%)\n",
            "Using penalty multiplier 1043.2422335482668\n",
            "Performance on train1_set: Average loss: 0.6464, Accuracy: 12191/20000 (60.95%)\n",
            "Performance on train2_set: Average loss: 0.6483, Accuracy: 11993/20000 (59.97%)\n",
            "Performance on test_set: Average loss: 0.6883, Accuracy: 11967/20000 (59.84%)\n",
            "Using penalty multiplier 1065.0043074649209\n",
            "Performance on train1_set: Average loss: 0.6383, Accuracy: 12253/20000 (61.27%)\n",
            "Performance on train2_set: Average loss: 0.6355, Accuracy: 11989/20000 (59.95%)\n",
            "Performance on test_set: Average loss: 0.7192, Accuracy: 11836/20000 (59.18%)\n",
            "Using penalty multiplier 1086.934430687584\n",
            "Performance on train1_set: Average loss: 0.6285, Accuracy: 12353/20000 (61.77%)\n",
            "Performance on train2_set: Average loss: 0.6198, Accuracy: 12200/20000 (61.00%)\n",
            "Performance on test_set: Average loss: 0.7507, Accuracy: 11555/20000 (57.77%)\n",
            "Using penalty multiplier 1109.0317490482346\n",
            "Performance on train1_set: Average loss: 0.6320, Accuracy: 12333/20000 (61.66%)\n",
            "Performance on train2_set: Average loss: 0.6260, Accuracy: 12143/20000 (60.72%)\n",
            "Performance on test_set: Average loss: 0.7321, Accuracy: 11675/20000 (58.38%)\n",
            "Using penalty multiplier 1131.2954233842977\n",
            "Performance on train1_set: Average loss: 0.6303, Accuracy: 12370/20000 (61.85%)\n",
            "Performance on train2_set: Average loss: 0.6237, Accuracy: 12175/20000 (60.88%)\n",
            "Performance on test_set: Average loss: 0.7338, Accuracy: 11662/20000 (58.31%)\n",
            "Using penalty multiplier 1153.724629092333\n",
            "Performance on train1_set: Average loss: 0.6379, Accuracy: 12210/20000 (61.05%)\n",
            "Performance on train2_set: Average loss: 0.6339, Accuracy: 11965/20000 (59.83%)\n",
            "Performance on test_set: Average loss: 0.7268, Accuracy: 11816/20000 (59.08%)\n",
            "Using penalty multiplier 1176.3185557003035\n",
            "Performance on train1_set: Average loss: 0.6309, Accuracy: 12463/20000 (62.31%)\n",
            "Performance on train2_set: Average loss: 0.6263, Accuracy: 12277/20000 (61.38%)\n",
            "Performance on test_set: Average loss: 0.7190, Accuracy: 11658/20000 (58.29%)\n",
            "Using penalty multiplier 1199.0764064574269\n",
            "Performance on train1_set: Average loss: 0.6300, Accuracy: 12465/20000 (62.33%)\n",
            "Performance on train2_set: Average loss: 0.6246, Accuracy: 12277/20000 (61.38%)\n",
            "Performance on test_set: Average loss: 0.7264, Accuracy: 11655/20000 (58.27%)\n",
            "Using penalty multiplier 1221.997397940695\n",
            "Performance on train1_set: Average loss: 0.6272, Accuracy: 12473/20000 (62.37%)\n",
            "Performance on train2_set: Average loss: 0.6203, Accuracy: 12301/20000 (61.51%)\n",
            "Performance on test_set: Average loss: 0.7353, Accuracy: 11645/20000 (58.23%)\n",
            "Using penalty multiplier 1245.0807596771863\n",
            "Performance on train1_set: Average loss: 0.6301, Accuracy: 12448/20000 (62.24%)\n",
            "Performance on train2_set: Average loss: 0.6247, Accuracy: 12253/20000 (61.27%)\n",
            "Performance on test_set: Average loss: 0.7296, Accuracy: 11703/20000 (58.52%)\n",
            "Using penalty multiplier 1268.3257337813668\n",
            "Performance on train1_set: Average loss: 0.6339, Accuracy: 12386/20000 (61.93%)\n",
            "Performance on train2_set: Average loss: 0.6304, Accuracy: 12179/20000 (60.90%)\n",
            "Performance on test_set: Average loss: 0.7196, Accuracy: 11796/20000 (58.98%)\n",
            "Using penalty multiplier 1291.7315746066158\n",
            "Performance on train1_set: Average loss: 0.6330, Accuracy: 12432/20000 (62.16%)\n",
            "Performance on train2_set: Average loss: 0.6295, Accuracy: 12237/20000 (61.19%)\n",
            "Performance on test_set: Average loss: 0.7187, Accuracy: 11762/20000 (58.81%)\n",
            "Using penalty multiplier 1315.2975484102626\n",
            "Performance on train1_set: Average loss: 0.6294, Accuracy: 12510/20000 (62.55%)\n",
            "Performance on train2_set: Average loss: 0.6244, Accuracy: 12306/20000 (61.53%)\n",
            "Performance on test_set: Average loss: 0.7246, Accuracy: 11644/20000 (58.22%)\n",
            "Using penalty multiplier 1339.022933031465\n",
            "Performance on train1_set: Average loss: 0.6220, Accuracy: 12632/20000 (63.16%)\n",
            "Performance on train2_set: Average loss: 0.6145, Accuracy: 12522/20000 (62.61%)\n",
            "Performance on test_set: Average loss: 0.7318, Accuracy: 11443/20000 (57.22%)\n",
            "Using penalty multiplier 1362.9070175812985\n",
            "Performance on train1_set: Average loss: 0.6354, Accuracy: 12326/20000 (61.63%)\n",
            "Performance on train2_set: Average loss: 0.6319, Accuracy: 12090/20000 (60.45%)\n",
            "Performance on test_set: Average loss: 0.7189, Accuracy: 11851/20000 (59.26%)\n",
            "Using penalty multiplier 1386.9491021444653\n",
            "Performance on train1_set: Average loss: 0.6441, Accuracy: 12311/20000 (61.55%)\n",
            "Performance on train2_set: Average loss: 0.6449, Accuracy: 12149/20000 (60.74%)\n",
            "Performance on test_set: Average loss: 0.6894, Accuracy: 11849/20000 (59.24%)\n",
            "Using penalty multiplier 1411.1484974920631\n",
            "Performance on train1_set: Average loss: 0.6442, Accuracy: 12321/20000 (61.60%)\n",
            "Performance on train2_set: Average loss: 0.6450, Accuracy: 12167/20000 (60.84%)\n",
            "Performance on test_set: Average loss: 0.6921, Accuracy: 11775/20000 (58.88%)\n",
            "Using penalty multiplier 1435.504524804891\n",
            "Performance on train1_set: Average loss: 0.6291, Accuracy: 12582/20000 (62.91%)\n",
            "Performance on train2_set: Average loss: 0.6243, Accuracy: 12472/20000 (62.36%)\n",
            "Performance on test_set: Average loss: 0.7186, Accuracy: 11520/20000 (57.60%)\n",
            "Using penalty multiplier 1460.0165154067959\n",
            "Performance on train1_set: Average loss: 0.6292, Accuracy: 12419/20000 (62.09%)\n",
            "Performance on train2_set: Average loss: 0.6223, Accuracy: 12233/20000 (61.16%)\n",
            "Performance on test_set: Average loss: 0.7382, Accuracy: 11708/20000 (58.54%)\n",
            "Using penalty multiplier 1484.6838105075944\n",
            "Performance on train1_set: Average loss: 0.6287, Accuracy: 12464/20000 (62.32%)\n",
            "Performance on train2_set: Average loss: 0.6230, Accuracy: 12304/20000 (61.52%)\n",
            "Performance on test_set: Average loss: 0.7270, Accuracy: 11732/20000 (58.66%)\n",
            "Using penalty multiplier 1509.5057609551284\n",
            "Performance on train1_set: Average loss: 0.6273, Accuracy: 12478/20000 (62.39%)\n",
            "Performance on train2_set: Average loss: 0.6208, Accuracy: 12289/20000 (61.45%)\n",
            "Performance on test_set: Average loss: 0.7344, Accuracy: 11691/20000 (58.45%)\n",
            "Using penalty multiplier 1534.481726996039\n",
            "Performance on train1_set: Average loss: 0.6238, Accuracy: 12599/20000 (62.99%)\n",
            "Performance on train2_set: Average loss: 0.6164, Accuracy: 12423/20000 (62.12%)\n",
            "Performance on test_set: Average loss: 0.7365, Accuracy: 11574/20000 (57.87%)\n",
            "Using penalty multiplier 1559.6110780448687\n",
            "Performance on train1_set: Average loss: 0.6324, Accuracy: 12504/20000 (62.52%)\n",
            "Performance on train2_set: Average loss: 0.6297, Accuracy: 12349/20000 (61.74%)\n",
            "Performance on test_set: Average loss: 0.7108, Accuracy: 11725/20000 (58.62%)\n"
          ]
        }
      ]
    },
    {
      "cell_type": "code",
      "metadata": {
        "colab": {
          "base_uri": "https://localhost:8080/",
          "height": 1000,
          "referenced_widgets": [
            "0cabf1676604493783d6804fa4aaf8ee",
            "b1ba6dfa78b24772b1952742c7cd39df",
            "939f17ffa19b46f8b5eca9c061c78e03",
            "520a2f94594a4e1da3d896e361c61740",
            "869ab65ffc964772b4d666186b8b8863",
            "342ee64140624cb1b0f3cdfb864bfabb",
            "227e718fec004e3b940a322d609a112b",
            "a79f5f229f994d40ba7a29202ced4bcb"
          ]
        },
        "id": "o3wSBldZV7Du",
        "outputId": "324f5059-01cf-4c8b-ab99-2d55ece0d248"
      },
      "source": [
        "args.cges = True\n",
        "\n",
        "train_and_test_erm()"
      ],
      "execution_count": null,
      "outputs": [
        {
          "output_type": "display_data",
          "data": {
            "text/html": [
              "Finishing last run (ID:ag5lskhk) before initializing another..."
            ],
            "text/plain": [
              "<IPython.core.display.HTML object>"
            ]
          },
          "metadata": {}
        },
        {
          "output_type": "display_data",
          "data": {
            "text/html": [
              "<br/>Waiting for W&B process to finish, PID 30348<br/>Program ended successfully."
            ],
            "text/plain": [
              "<IPython.core.display.HTML object>"
            ]
          },
          "metadata": {}
        },
        {
          "output_type": "display_data",
          "data": {
            "application/vnd.jupyter.widget-view+json": {
              "model_id": "0cabf1676604493783d6804fa4aaf8ee",
              "version_minor": 0,
              "version_major": 2
            },
            "text/plain": [
              "VBox(children=(Label(value=' 0.53MB of 0.53MB uploaded (0.00MB deduped)\\r'), FloatProgress(value=1.0, max=1.0)…"
            ]
          },
          "metadata": {}
        },
        {
          "output_type": "display_data",
          "data": {
            "text/html": [
              "Find user logs for this run at: <code>/content/wandb/run-20210915_130025-ag5lskhk/logs/debug.log</code>"
            ],
            "text/plain": [
              "<IPython.core.display.HTML object>"
            ]
          },
          "metadata": {}
        },
        {
          "output_type": "display_data",
          "data": {
            "text/html": [
              "Find internal logs for this run at: <code>/content/wandb/run-20210915_130025-ag5lskhk/logs/debug-internal.log</code>"
            ],
            "text/plain": [
              "<IPython.core.display.HTML object>"
            ]
          },
          "metadata": {}
        },
        {
          "output_type": "display_data",
          "data": {
            "text/html": [
              "Synced 5 W&B file(s), 0 media file(s), 3 artifact file(s) and 1 other file(s)"
            ],
            "text/plain": [
              "<IPython.core.display.HTML object>"
            ]
          },
          "metadata": {}
        },
        {
          "output_type": "display_data",
          "data": {
            "text/html": [
              "\n",
              "                    <br/>Synced <strong style=\"color:#cdcd00\">apricot-oath-25</strong>: <a href=\"https://wandb.ai/arjunashok/irm-notebook/runs/ag5lskhk\" target=\"_blank\">https://wandb.ai/arjunashok/irm-notebook/runs/ag5lskhk</a><br/>\n",
              "                "
            ],
            "text/plain": [
              "<IPython.core.display.HTML object>"
            ]
          },
          "metadata": {}
        },
        {
          "output_type": "display_data",
          "data": {
            "text/html": [
              "...Successfully finished last run (ID:ag5lskhk). Initializing new run:<br/><br/>"
            ],
            "text/plain": [
              "<IPython.core.display.HTML object>"
            ]
          },
          "metadata": {}
        },
        {
          "output_type": "display_data",
          "data": {
            "text/html": [
              "\n",
              "                Tracking run with wandb version 0.12.1<br/>\n",
              "                Syncing run <strong style=\"color:#cdcd00\">legendary-frost-26</strong> to <a href=\"https://wandb.ai\" target=\"_blank\">Weights & Biases</a> <a href=\"https://docs.wandb.com/integrations/jupyter.html\" target=\"_blank\">(Documentation)</a>.<br/>\n",
              "                Project page: <a href=\"https://wandb.ai/arjunashok/irm-notebook\" target=\"_blank\">https://wandb.ai/arjunashok/irm-notebook</a><br/>\n",
              "                Run page: <a href=\"https://wandb.ai/arjunashok/irm-notebook/runs/m9ymiv37\" target=\"_blank\">https://wandb.ai/arjunashok/irm-notebook/runs/m9ymiv37</a><br/>\n",
              "                Run data is saved locally in <code>/content/wandb/run-20210915_130113-m9ymiv37</code><br/><br/>\n",
              "            "
            ],
            "text/plain": [
              "<IPython.core.display.HTML object>"
            ]
          },
          "metadata": {}
        },
        {
          "output_type": "stream",
          "name": "stdout",
          "text": [
            "Colored MNIST dataset already exists\n"
          ]
        },
        {
          "output_type": "stream",
          "name": "stderr",
          "text": [
            "/usr/local/lib/python3.7/dist-packages/torch/utils/data/dataloader.py:481: UserWarning: This DataLoader will create 8 worker processes in total. Our suggested max number of worker in current system is 2, which is smaller than what this DataLoader is going to create. Please be aware that excessive worker creation might get DataLoader running slow or even freeze, lower the worker number to avoid potential slowness/freeze if necessary.\n",
            "  cpuset_checked))\n"
          ]
        },
        {
          "output_type": "stream",
          "name": "stdout",
          "text": [
            "Colored MNIST dataset already exists\n"
          ]
        },
        {
          "output_type": "error",
          "ename": "RuntimeError",
          "evalue": "ignored",
          "traceback": [
            "\u001b[0;31m---------------------------------------------------------------------------\u001b[0m",
            "\u001b[0;31mRuntimeError\u001b[0m                              Traceback (most recent call last)",
            "\u001b[0;32m<ipython-input-38-e90267c5bef6>\u001b[0m in \u001b[0;36m<module>\u001b[0;34m()\u001b[0m\n\u001b[1;32m      1\u001b[0m \u001b[0margs\u001b[0m\u001b[0;34m.\u001b[0m\u001b[0mcges\u001b[0m \u001b[0;34m=\u001b[0m \u001b[0;32mTrue\u001b[0m\u001b[0;34m\u001b[0m\u001b[0;34m\u001b[0m\u001b[0m\n\u001b[1;32m      2\u001b[0m \u001b[0;34m\u001b[0m\u001b[0m\n\u001b[0;32m----> 3\u001b[0;31m \u001b[0mtrain_and_test_erm\u001b[0m\u001b[0;34m(\u001b[0m\u001b[0;34m)\u001b[0m\u001b[0;34m\u001b[0m\u001b[0;34m\u001b[0m\u001b[0m\n\u001b[0m",
            "\u001b[0;32m<ipython-input-35-4da0c70b0561>\u001b[0m in \u001b[0;36mtrain_and_test_erm\u001b[0;34m()\u001b[0m\n\u001b[1;32m     78\u001b[0m     batch_size=1000, shuffle=True, **kwargs)\n\u001b[1;32m     79\u001b[0m \u001b[0;34m\u001b[0m\u001b[0m\n\u001b[0;32m---> 80\u001b[0;31m   \u001b[0mmodel\u001b[0m \u001b[0;34m=\u001b[0m \u001b[0mConvNet\u001b[0m\u001b[0;34m(\u001b[0m\u001b[0;34m)\u001b[0m\u001b[0;34m.\u001b[0m\u001b[0mto\u001b[0m\u001b[0;34m(\u001b[0m\u001b[0mdevice\u001b[0m\u001b[0;34m)\u001b[0m\u001b[0;34m\u001b[0m\u001b[0;34m\u001b[0m\u001b[0m\n\u001b[0m\u001b[1;32m     81\u001b[0m   \u001b[0moptimizer\u001b[0m \u001b[0;34m=\u001b[0m \u001b[0moptim\u001b[0m\u001b[0;34m.\u001b[0m\u001b[0mAdam\u001b[0m\u001b[0;34m(\u001b[0m\u001b[0mmodel\u001b[0m\u001b[0;34m.\u001b[0m\u001b[0mparameters\u001b[0m\u001b[0;34m(\u001b[0m\u001b[0;34m)\u001b[0m\u001b[0;34m,\u001b[0m \u001b[0mlr\u001b[0m\u001b[0;34m=\u001b[0m\u001b[0margs\u001b[0m\u001b[0;34m.\u001b[0m\u001b[0mlr\u001b[0m\u001b[0;34m)\u001b[0m\u001b[0;34m\u001b[0m\u001b[0;34m\u001b[0m\u001b[0m\n\u001b[1;32m     82\u001b[0m \u001b[0;34m\u001b[0m\u001b[0m\n",
            "\u001b[0;32m/usr/local/lib/python3.7/dist-packages/torch/nn/modules/module.py\u001b[0m in \u001b[0;36mto\u001b[0;34m(self, *args, **kwargs)\u001b[0m\n\u001b[1;32m    850\u001b[0m             \u001b[0;32mreturn\u001b[0m \u001b[0mt\u001b[0m\u001b[0;34m.\u001b[0m\u001b[0mto\u001b[0m\u001b[0;34m(\u001b[0m\u001b[0mdevice\u001b[0m\u001b[0;34m,\u001b[0m \u001b[0mdtype\u001b[0m \u001b[0;32mif\u001b[0m \u001b[0mt\u001b[0m\u001b[0;34m.\u001b[0m\u001b[0mis_floating_point\u001b[0m\u001b[0;34m(\u001b[0m\u001b[0;34m)\u001b[0m \u001b[0;32mor\u001b[0m \u001b[0mt\u001b[0m\u001b[0;34m.\u001b[0m\u001b[0mis_complex\u001b[0m\u001b[0;34m(\u001b[0m\u001b[0;34m)\u001b[0m \u001b[0;32melse\u001b[0m \u001b[0;32mNone\u001b[0m\u001b[0;34m,\u001b[0m \u001b[0mnon_blocking\u001b[0m\u001b[0;34m)\u001b[0m\u001b[0;34m\u001b[0m\u001b[0;34m\u001b[0m\u001b[0m\n\u001b[1;32m    851\u001b[0m \u001b[0;34m\u001b[0m\u001b[0m\n\u001b[0;32m--> 852\u001b[0;31m         \u001b[0;32mreturn\u001b[0m \u001b[0mself\u001b[0m\u001b[0;34m.\u001b[0m\u001b[0m_apply\u001b[0m\u001b[0;34m(\u001b[0m\u001b[0mconvert\u001b[0m\u001b[0;34m)\u001b[0m\u001b[0;34m\u001b[0m\u001b[0;34m\u001b[0m\u001b[0m\n\u001b[0m\u001b[1;32m    853\u001b[0m \u001b[0;34m\u001b[0m\u001b[0m\n\u001b[1;32m    854\u001b[0m     def register_backward_hook(\n",
            "\u001b[0;32m/usr/local/lib/python3.7/dist-packages/torch/nn/modules/module.py\u001b[0m in \u001b[0;36m_apply\u001b[0;34m(self, fn)\u001b[0m\n\u001b[1;32m    528\u001b[0m     \u001b[0;32mdef\u001b[0m \u001b[0m_apply\u001b[0m\u001b[0;34m(\u001b[0m\u001b[0mself\u001b[0m\u001b[0;34m,\u001b[0m \u001b[0mfn\u001b[0m\u001b[0;34m)\u001b[0m\u001b[0;34m:\u001b[0m\u001b[0;34m\u001b[0m\u001b[0;34m\u001b[0m\u001b[0m\n\u001b[1;32m    529\u001b[0m         \u001b[0;32mfor\u001b[0m \u001b[0mmodule\u001b[0m \u001b[0;32min\u001b[0m \u001b[0mself\u001b[0m\u001b[0;34m.\u001b[0m\u001b[0mchildren\u001b[0m\u001b[0;34m(\u001b[0m\u001b[0;34m)\u001b[0m\u001b[0;34m:\u001b[0m\u001b[0;34m\u001b[0m\u001b[0;34m\u001b[0m\u001b[0m\n\u001b[0;32m--> 530\u001b[0;31m             \u001b[0mmodule\u001b[0m\u001b[0;34m.\u001b[0m\u001b[0m_apply\u001b[0m\u001b[0;34m(\u001b[0m\u001b[0mfn\u001b[0m\u001b[0;34m)\u001b[0m\u001b[0;34m\u001b[0m\u001b[0;34m\u001b[0m\u001b[0m\n\u001b[0m\u001b[1;32m    531\u001b[0m \u001b[0;34m\u001b[0m\u001b[0m\n\u001b[1;32m    532\u001b[0m         \u001b[0;32mdef\u001b[0m \u001b[0mcompute_should_use_set_data\u001b[0m\u001b[0;34m(\u001b[0m\u001b[0mtensor\u001b[0m\u001b[0;34m,\u001b[0m \u001b[0mtensor_applied\u001b[0m\u001b[0;34m)\u001b[0m\u001b[0;34m:\u001b[0m\u001b[0;34m\u001b[0m\u001b[0;34m\u001b[0m\u001b[0m\n",
            "\u001b[0;32m/usr/local/lib/python3.7/dist-packages/torch/nn/modules/module.py\u001b[0m in \u001b[0;36m_apply\u001b[0;34m(self, fn)\u001b[0m\n\u001b[1;32m    550\u001b[0m                 \u001b[0;31m# `with torch.no_grad():`\u001b[0m\u001b[0;34m\u001b[0m\u001b[0;34m\u001b[0m\u001b[0;34m\u001b[0m\u001b[0m\n\u001b[1;32m    551\u001b[0m                 \u001b[0;32mwith\u001b[0m \u001b[0mtorch\u001b[0m\u001b[0;34m.\u001b[0m\u001b[0mno_grad\u001b[0m\u001b[0;34m(\u001b[0m\u001b[0;34m)\u001b[0m\u001b[0;34m:\u001b[0m\u001b[0;34m\u001b[0m\u001b[0;34m\u001b[0m\u001b[0m\n\u001b[0;32m--> 552\u001b[0;31m                     \u001b[0mparam_applied\u001b[0m \u001b[0;34m=\u001b[0m \u001b[0mfn\u001b[0m\u001b[0;34m(\u001b[0m\u001b[0mparam\u001b[0m\u001b[0;34m)\u001b[0m\u001b[0;34m\u001b[0m\u001b[0;34m\u001b[0m\u001b[0m\n\u001b[0m\u001b[1;32m    553\u001b[0m                 \u001b[0mshould_use_set_data\u001b[0m \u001b[0;34m=\u001b[0m \u001b[0mcompute_should_use_set_data\u001b[0m\u001b[0;34m(\u001b[0m\u001b[0mparam\u001b[0m\u001b[0;34m,\u001b[0m \u001b[0mparam_applied\u001b[0m\u001b[0;34m)\u001b[0m\u001b[0;34m\u001b[0m\u001b[0;34m\u001b[0m\u001b[0m\n\u001b[1;32m    554\u001b[0m                 \u001b[0;32mif\u001b[0m \u001b[0mshould_use_set_data\u001b[0m\u001b[0;34m:\u001b[0m\u001b[0;34m\u001b[0m\u001b[0;34m\u001b[0m\u001b[0m\n",
            "\u001b[0;32m/usr/local/lib/python3.7/dist-packages/torch/nn/modules/module.py\u001b[0m in \u001b[0;36mconvert\u001b[0;34m(t)\u001b[0m\n\u001b[1;32m    848\u001b[0m                 return t.to(device, dtype if t.is_floating_point() or t.is_complex() else None,\n\u001b[1;32m    849\u001b[0m                             non_blocking, memory_format=convert_to_format)\n\u001b[0;32m--> 850\u001b[0;31m             \u001b[0;32mreturn\u001b[0m \u001b[0mt\u001b[0m\u001b[0;34m.\u001b[0m\u001b[0mto\u001b[0m\u001b[0;34m(\u001b[0m\u001b[0mdevice\u001b[0m\u001b[0;34m,\u001b[0m \u001b[0mdtype\u001b[0m \u001b[0;32mif\u001b[0m \u001b[0mt\u001b[0m\u001b[0;34m.\u001b[0m\u001b[0mis_floating_point\u001b[0m\u001b[0;34m(\u001b[0m\u001b[0;34m)\u001b[0m \u001b[0;32mor\u001b[0m \u001b[0mt\u001b[0m\u001b[0;34m.\u001b[0m\u001b[0mis_complex\u001b[0m\u001b[0;34m(\u001b[0m\u001b[0;34m)\u001b[0m \u001b[0;32melse\u001b[0m \u001b[0;32mNone\u001b[0m\u001b[0;34m,\u001b[0m \u001b[0mnon_blocking\u001b[0m\u001b[0;34m)\u001b[0m\u001b[0;34m\u001b[0m\u001b[0;34m\u001b[0m\u001b[0m\n\u001b[0m\u001b[1;32m    851\u001b[0m \u001b[0;34m\u001b[0m\u001b[0m\n\u001b[1;32m    852\u001b[0m         \u001b[0;32mreturn\u001b[0m \u001b[0mself\u001b[0m\u001b[0;34m.\u001b[0m\u001b[0m_apply\u001b[0m\u001b[0;34m(\u001b[0m\u001b[0mconvert\u001b[0m\u001b[0;34m)\u001b[0m\u001b[0;34m\u001b[0m\u001b[0;34m\u001b[0m\u001b[0m\n",
            "\u001b[0;31mRuntimeError\u001b[0m: CUDA error: unknown error\nCUDA kernel errors might be asynchronously reported at some other API call,so the stacktrace below might be incorrect.\nFor debugging consider passing CUDA_LAUNCH_BLOCKING=1."
          ]
        }
      ]
    }
  ]
}